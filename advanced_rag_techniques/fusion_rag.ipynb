{
  "cells": [
    {
      "cell_type": "markdown",
      "metadata": {
        "id": "URDLuILmv7Du"
      },
      "source": [
        "# **RAG Fusion**\n",
        "RAG-Fusion is an enhanced version of the traditional Retrieval-Augmented Generation (RAG) model. In RAG-Fusion, after receiving a query, the model first generates related sub-queries using a large language model. These sub-queries help find more relevant documents. Instead of simply sending the retrieved documents to the model, RAG-Fusion uses a technique called Reciprocal Rank Fusion (RRF) to score and reorder the documents based on their relevance. The best-ranked documents are then used to generate a more accurate response.\n",
        "\n",
        "Research Paper: [RAG Fusion](https://arxiv.org/pdf/2402.03367)"
      ]
    },
    {
      "cell_type": "markdown",
      "metadata": {
        "id": "P5PkddQ5wZVS"
      },
      "source": [
        "## **Initial Setup**"
      ]
    },
    {
      "cell_type": "code",
      "execution_count": 1,
      "metadata": {
        "id": "QsSAA2QVvfpz"
      },
      "outputs": [
        {
          "name": "stderr",
          "output_type": "stream",
          "text": [
            "WARNING: Ignoring invalid distribution -atplotlib (c:\\users\\patel\\appdata\\local\\programs\\python\\python310\\lib\\site-packages)\n",
            "WARNING: Ignoring invalid distribution -atplotlib (c:\\users\\patel\\appdata\\local\\programs\\python\\python310\\lib\\site-packages)\n",
            "\n",
            "[notice] A new release of pip is available: 24.0 -> 25.1.1\n",
            "[notice] To update, run: python.exe -m pip install --upgrade pip\n"
          ]
        }
      ],
      "source": [
        "! pip install --q athina langsmith"
      ]
    },
    {
      "cell_type": "code",
      "execution_count": 2,
      "metadata": {
        "id": "Ij2kz-gAwdfC"
      },
      "outputs": [],
      "source": [
        "import os\n",
        "from dotenv import load_dotenv\n",
        "\n",
        "# Load environment variables from .env file\n",
        "load_dotenv()\n",
        "\n",
        "os.environ[\"OPENAI_API_KEY\"] = os.getenv('OPENAI_API_KEY')\n",
        "os.environ['ATHINA_API_KEY'] = os.getenv('ATHINA_API_KEY')\n",
        "os.environ['QDRANT_API_KEY'] = os.getenv('QDRANT_API_KEY')\n",
        "\n",
        "# Optional: Verify keys are loaded\n",
        "if not os.environ[\"OPENAI_API_KEY\"] or not os.environ['ATHINA_API_KEY'] or not os.getenv('QDRANT_API_KEY'):\n",
        "    print(\"Warning: API keys not loaded from .env file\")"
      ]
    },
    {
      "cell_type": "markdown",
      "metadata": {
        "id": "at5SmuJXwg-G"
      },
      "source": [
        "## **Indexing**"
      ]
    },
    {
      "cell_type": "code",
      "execution_count": 3,
      "metadata": {
        "id": "g6Xk1ZJWwhap"
      },
      "outputs": [],
      "source": [
        "# load embedding model\n",
        "from langchain_openai import OpenAIEmbeddings\n",
        "embeddings = OpenAIEmbeddings()"
      ]
    },
    {
      "cell_type": "code",
      "execution_count": 4,
      "metadata": {
        "id": "t8pp2bKRwkZC"
      },
      "outputs": [],
      "source": [
        "# load data\n",
        "from langchain.document_loaders import CSVLoader\n",
        "loader = CSVLoader(file_path=\"./context.csv\", encoding=\"utf-8\")\n",
        "documents = loader.load()"
      ]
    },
    {
      "cell_type": "code",
      "execution_count": 5,
      "metadata": {
        "id": "X_XTChkywmX0"
      },
      "outputs": [],
      "source": [
        "# split documents\n",
        "from langchain.text_splitter import RecursiveCharacterTextSplitter\n",
        "text_splitter = RecursiveCharacterTextSplitter(chunk_size=500, chunk_overlap=0)\n",
        "documents = text_splitter.split_documents(documents)"
      ]
    },
    {
      "cell_type": "markdown",
      "metadata": {
        "id": "uUXoyVQUkEiP"
      },
      "source": [
        "## **Qdrant Vector Database**"
      ]
    },
    {
      "cell_type": "code",
      "execution_count": 8,
      "metadata": {
        "id": "foUKsehPkPHf"
      },
      "outputs": [],
      "source": [
        "# create vectorstore\n",
        "from langchain_community.vectorstores import Qdrant\n",
        "vectorstore = Qdrant.from_documents(\n",
        "    documents,\n",
        "    embeddings,\n",
        "    url=\"https://5336c8c7-c338-4712-a2aa-43bf713258fd.us-west-2-0.aws.cloud.qdrant.io\",\n",
        "    prefer_grpc=True,\n",
        "    collection_name=\"documents\",\n",
        "    api_key=os.environ[\"QDRANT_API_KEY\"],\n",
        ")"
      ]
    },
    {
      "cell_type": "markdown",
      "metadata": {
        "id": "5sieex4HkN1a"
      },
      "source": [
        "## **Chromadb (Optional)**"
      ]
    },
    {
      "cell_type": "code",
      "execution_count": null,
      "metadata": {
        "id": "4GM49mhUwoDY"
      },
      "outputs": [],
      "source": [
        "# # optional vectorstore\n",
        "# !pip install chromadb\n",
        "# # create vectorstore\n",
        "# from langchain.vectorstores import Chroma\n",
        "# vectorstore = Chroma.from_documents(documents, embeddings)"
      ]
    },
    {
      "cell_type": "markdown",
      "metadata": {
        "id": "oKPlGdzwwpuz"
      },
      "source": [
        "## **Retriever**"
      ]
    },
    {
      "cell_type": "code",
      "execution_count": 9,
      "metadata": {
        "id": "RwZ38y8ZwqNL"
      },
      "outputs": [],
      "source": [
        "# create retriever\n",
        "retriever = vectorstore.as_retriever()"
      ]
    },
    {
      "cell_type": "markdown",
      "metadata": {
        "id": "MqS-Hx24wx5d"
      },
      "source": [
        "## **Reciprocal Rank Fusion Chain**"
      ]
    },
    {
      "cell_type": "code",
      "execution_count": 10,
      "metadata": {
        "id": "mY5nfky7wws-"
      },
      "outputs": [],
      "source": [
        "# create llm\n",
        "from langchain_openai import ChatOpenAI\n",
        "llm = ChatOpenAI()"
      ]
    },
    {
      "cell_type": "code",
      "execution_count": 11,
      "metadata": {
        "id": "aU-M9VuxxKZN"
      },
      "outputs": [
        {
          "name": "stderr",
          "output_type": "stream",
          "text": [
            "c:\\Users\\patel\\AppData\\Local\\Programs\\Python\\Python310\\lib\\site-packages\\langsmith\\client.py:241: LangSmithMissingAPIKeyWarning: API key must be provided when using hosted LangSmith API\n",
            "  warnings.warn(\n"
          ]
        }
      ],
      "source": [
        "# create chain\n",
        "from langchain_core.output_parsers import StrOutputParser\n",
        "from langsmith import Client\n",
        "client = Client()\n",
        "prompt = client.pull_prompt(\"langchain-ai/rag-fusion-query-generation\")"
      ]
    },
    {
      "cell_type": "code",
      "execution_count": 12,
      "metadata": {
        "id": "_hawpPm2xvxi"
      },
      "outputs": [],
      "source": [
        "# generate queries\n",
        "generate_queries = (\n",
        "    prompt | ChatOpenAI(temperature=0) | StrOutputParser() | (lambda x: x.split(\"\\n\"))\n",
        ")"
      ]
    },
    {
      "cell_type": "code",
      "execution_count": 13,
      "metadata": {
        "id": "rf6kiKG0x0lS"
      },
      "outputs": [],
      "source": [
        "# rerank results\n",
        "from langchain.load import dumps, loads\n",
        "\n",
        "def reciprocal_rank_fusion(results: list[list], k=60):\n",
        "    fused_scores = {}\n",
        "    for docs in results:\n",
        "        # Assumes the docs are returned in sorted order of relevance\n",
        "        for rank, doc in enumerate(docs):\n",
        "            doc_str = dumps(doc)\n",
        "            if doc_str not in fused_scores:\n",
        "                fused_scores[doc_str] = 0\n",
        "            previous_score = fused_scores[doc_str]\n",
        "            fused_scores[doc_str] += 1 / (rank + k)\n",
        "\n",
        "    reranked_results = [\n",
        "        (loads(doc), score)\n",
        "        for doc, score in sorted(fused_scores.items(), key=lambda x: x[1], reverse=True)\n",
        "    ]\n",
        "    return reranked_results"
      ]
    },
    {
      "cell_type": "code",
      "execution_count": 14,
      "metadata": {
        "id": "at5rGstCx444"
      },
      "outputs": [],
      "source": [
        "# create chain\n",
        "chain = generate_queries | retriever.map() | reciprocal_rank_fusion"
      ]
    },
    {
      "cell_type": "code",
      "execution_count": 15,
      "metadata": {
        "colab": {
          "base_uri": "https://localhost:8080/"
        },
        "id": "quMrwq9px8dD",
        "outputId": "024253f5-5d4d-41a8-c218-38d5a8e5f607"
      },
      "outputs": [
        {
          "data": {
            "text/plain": [
              "{'properties': {'original_query': {'title': 'Original Query',\n",
              "   'type': 'string'}},\n",
              " 'required': ['original_query'],\n",
              " 'title': 'PromptInput',\n",
              " 'type': 'object'}"
            ]
          },
          "execution_count": 15,
          "metadata": {},
          "output_type": "execute_result"
        }
      ],
      "source": [
        "# check input schema\n",
        "chain.input_schema.schema()"
      ]
    },
    {
      "cell_type": "code",
      "execution_count": 16,
      "metadata": {
        "id": "Eql6Fin9yCmr"
      },
      "outputs": [
        {
          "data": {
            "text/plain": [
              "[(Document(metadata={'source': './context.csv', 'row': 1, '_id': '0bde8e87-f7d5-4552-805b-69a6071e0ec8', '_collection_name': 'documents'}, page_content='context: [\"Discount points, also called mortgage points or simply points, are a form of pre-paid interest available in the United States when arranging a mortgage. One point equals one percent of the loan amount. By charging a borrower points, a lender effectively increases the yield on the loan above the amount of the stated interest rate.  Borrowers can offer to pay a lender points as a method to reduce the interest rate on the loan, thus obtaining a lower monthly payment in exchange for this'),\n",
              "  0.06612021857923497),\n",
              " (Document(metadata={'source': './context.csv', 'row': 1, '_id': '17a9bc95-41e1-4a3c-9eaf-2b7f5a871d12', '_collection_name': 'documents'}, page_content='rate.Points may also be purchased to reduce the monthly payment for the purpose of qualifying for a loan.  Loan qualification based on monthly income versus the monthly loan payment may sometimes only be achievable by reducing the monthly payment through the purchasing of points to buy down the interest rate, thereby reducing the monthly loan payment.\\\\nDiscount points may be different from origination fee, mortgage arrangement fee or broker fee. Discount points are always used to buy down the'),\n",
              "  0.06452452301209573),\n",
              " (Document(metadata={'source': './context.csv', 'row': 1, '_id': '6e2ba6ac-7a80-46e5-bfec-9f7bbe574a96', '_collection_name': 'documents'}, page_content='points is the concept of the \\'no closing cost loan\\', in which the consumer accepts a higher interest rate in return for the lender paying the loan\\'s closing costs up front.  In some cases a purchaser can negotiate with the seller to get them to pay seller\\'s points which can be used to pay mortgage points.\\\\n\\\\n\\\\n== References ==\\\\n\\\\n\\\\n== External links ==\\\\nirs.gov/publications/p936 – IRS Form 936 defines a point for the purpose of deducting mortgage interest for U.S. income taxes\"'),\n",
              "  0.06374807987711213),\n",
              " (Document(metadata={'source': './context.csv', 'row': 1, '_id': 'cda1f248-6285-4511-acd2-7a7f5dfa8479', '_collection_name': 'documents'}, page_content='up-front payment. For each point purchased, the loan rate is typically reduced by anywhere from 1/8% (0.125%) to 1/4% (0.25%).Selling the property or refinancing prior to this break-even point will result in a net financial loss for the buyer while keeping the loan for longer than this break-even point will result in a net financial savings for the buyer. Accordingly, if the intention is to buy and sell the property or refinance, paying points will cost more than just paying the higher interest'),\n",
              "  0.049189141547682),\n",
              " (Document(metadata={'source': './context.csv', 'row': 1, '_id': 'f5dd6f4d-75fe-41f7-b8c5-c547249b5bd9', '_collection_name': 'documents'}, page_content='interest rates, while origination fees sometimes are fees the lender charges for the loan or sometimes just another name for buying down the interest rate. Origination fee and discount points are both items listed under lender-charges on the HUD-1 Settlement Statement.\\\\nThe difference in savings over the life of the loan can make paying points a benefit to the borrower. Any significant changes in fees should be re-disclosed in the final good faith estimate (GFE).\\\\nAlso directly related to'),\n",
              "  0.016666666666666666)]"
            ]
          },
          "execution_count": 16,
          "metadata": {},
          "output_type": "execute_result"
        }
      ],
      "source": [
        "# rerank results\n",
        "chain.invoke(\"what are points on a mortgage\")"
      ]
    },
    {
      "cell_type": "markdown",
      "metadata": {
        "id": "5eZKfWqvyUwA"
      },
      "source": [
        "## **RAG Chain**"
      ]
    },
    {
      "cell_type": "code",
      "execution_count": 17,
      "metadata": {
        "id": "n1AJNW1fyUC-"
      },
      "outputs": [],
      "source": [
        "from langchain.schema.runnable import RunnablePassthrough\n",
        "from langchain_core.prompts import ChatPromptTemplate\n",
        "\n",
        "template = \"\"\"Answer the question based only on the following context.\n",
        "If you don't find the answer in the context, just say that you don't know.\n",
        "\n",
        "Context: {context}\n",
        "\n",
        "Question: {question}\n",
        "\"\"\"\n",
        "prompt = ChatPromptTemplate.from_template(template)\n",
        "\n",
        "rag_fusion_chain = (\n",
        "    {\n",
        "        \"context\": chain,\n",
        "        \"question\": RunnablePassthrough()\n",
        "    }\n",
        "    | prompt\n",
        "    | llm\n",
        "    | StrOutputParser()\n",
        ")"
      ]
    },
    {
      "cell_type": "code",
      "execution_count": 18,
      "metadata": {
        "colab": {
          "base_uri": "https://localhost:8080/",
          "height": 107
        },
        "id": "4VHhYcOVybSI",
        "outputId": "c0b8a967-f595-4804-992c-3b5e644141b1"
      },
      "outputs": [
        {
          "data": {
            "text/plain": [
              "'Points on a mortgage are a form of pre-paid interest available in the United States when arranging a mortgage. One point equals one percent of the loan amount. Borrowers can pay points to reduce the interest rate on the loan, thereby obtaining a lower monthly payment in exchange. Points may also be purchased to reduce the monthly payment for the purpose of qualifying for a loan.'"
            ]
          },
          "execution_count": 18,
          "metadata": {},
          "output_type": "execute_result"
        }
      ],
      "source": [
        "rag_fusion_chain.invoke(\"what are points on a mortgage\")"
      ]
    },
    {
      "cell_type": "markdown",
      "metadata": {
        "id": "mPn0wjWizIMi"
      },
      "source": [
        "## **Preparing Data for Evaluation**"
      ]
    },
    {
      "cell_type": "code",
      "execution_count": 19,
      "metadata": {
        "id": "ILMCoF4fy3Fu"
      },
      "outputs": [
        {
          "name": "stderr",
          "output_type": "stream",
          "text": [
            "C:\\Users\\patel\\AppData\\Local\\Temp\\ipykernel_5580\\2042987162.py:9: LangChainDeprecationWarning: The method `BaseRetriever.get_relevant_documents` was deprecated in langchain-core 0.1.46 and will be removed in 1.0. Use :meth:`~invoke` instead.\n",
            "  contexts.append([docs.page_content for docs in retriever.get_relevant_documents(query)])\n"
          ]
        }
      ],
      "source": [
        "question = [\"what are points on a mortgage\"]\n",
        "response = []\n",
        "contexts = []\n",
        "ground_truths = [\"Points, sometimes also called a 'discount point', are a form of pre-paid interest.\"]\n",
        "\n",
        "# Inference\n",
        "for query in question:\n",
        "  response.append(rag_fusion_chain.invoke(query))\n",
        "  contexts.append([docs.page_content for docs in retriever.get_relevant_documents(query)])\n",
        "\n",
        "# To dict\n",
        "data = {\n",
        "    \"query\": question,\n",
        "    \"response\": response,\n",
        "    \"context\": contexts,\n",
        "    \"ground_truth\": ground_truths\n",
        "}"
      ]
    },
    {
      "cell_type": "code",
      "execution_count": 20,
      "metadata": {
        "id": "AMapriM_zI7v"
      },
      "outputs": [],
      "source": [
        "# create dataset\n",
        "from datasets import Dataset\n",
        "dataset = Dataset.from_dict(data)"
      ]
    },
    {
      "cell_type": "code",
      "execution_count": 21,
      "metadata": {
        "id": "9SVP6pbfzNJZ"
      },
      "outputs": [],
      "source": [
        "# create dataframe\n",
        "import pandas as pd\n",
        "df = pd.DataFrame(dataset)"
      ]
    },
    {
      "cell_type": "code",
      "execution_count": 22,
      "metadata": {
        "colab": {
          "base_uri": "https://localhost:8080/",
          "height": 144
        },
        "id": "ZFgRZXk3zTFy",
        "outputId": "59cd67ad-531e-47dd-8d84-5f7695336910"
      },
      "outputs": [
        {
          "data": {
            "text/html": [
              "<div>\n",
              "<style scoped>\n",
              "    .dataframe tbody tr th:only-of-type {\n",
              "        vertical-align: middle;\n",
              "    }\n",
              "\n",
              "    .dataframe tbody tr th {\n",
              "        vertical-align: top;\n",
              "    }\n",
              "\n",
              "    .dataframe thead th {\n",
              "        text-align: right;\n",
              "    }\n",
              "</style>\n",
              "<table border=\"1\" class=\"dataframe\">\n",
              "  <thead>\n",
              "    <tr style=\"text-align: right;\">\n",
              "      <th></th>\n",
              "      <th>query</th>\n",
              "      <th>response</th>\n",
              "      <th>context</th>\n",
              "      <th>ground_truth</th>\n",
              "    </tr>\n",
              "  </thead>\n",
              "  <tbody>\n",
              "    <tr>\n",
              "      <th>0</th>\n",
              "      <td>what are points on a mortgage</td>\n",
              "      <td>Points on a mortgage are a form of pre-paid in...</td>\n",
              "      <td>[context: [\"Discount points, also called mortg...</td>\n",
              "      <td>Points, sometimes also called a 'discount poin...</td>\n",
              "    </tr>\n",
              "  </tbody>\n",
              "</table>\n",
              "</div>"
            ],
            "text/plain": [
              "                           query  \\\n",
              "0  what are points on a mortgage   \n",
              "\n",
              "                                            response  \\\n",
              "0  Points on a mortgage are a form of pre-paid in...   \n",
              "\n",
              "                                             context  \\\n",
              "0  [context: [\"Discount points, also called mortg...   \n",
              "\n",
              "                                        ground_truth  \n",
              "0  Points, sometimes also called a 'discount poin...  "
            ]
          },
          "execution_count": 22,
          "metadata": {},
          "output_type": "execute_result"
        }
      ],
      "source": [
        "df"
      ]
    },
    {
      "cell_type": "code",
      "execution_count": 23,
      "metadata": {
        "id": "_w4dyNk6zWRI"
      },
      "outputs": [],
      "source": [
        "# Convert to dictionary\n",
        "df_dict = df.to_dict(orient='records')\n",
        "\n",
        "# Convert context to list\n",
        "for record in df_dict:\n",
        "    if not isinstance(record.get('context'), list):\n",
        "        if record.get('context') is None:\n",
        "            record['context'] = []\n",
        "        else:\n",
        "            record['context'] = [record['context']]"
      ]
    },
    {
      "cell_type": "markdown",
      "metadata": {
        "id": "3t-dhvCTzYZi"
      },
      "source": [
        "## **Evaluation in Athina AI**\n",
        "\n",
        "We will use **Answer Relevancy** eval here. It Measures how pertinent the generated response is to the given prompt. Please refer to our [documentation](https://docs.athina.ai/api-reference/evals/preset-evals/overview) for further details."
      ]
    },
    {
      "cell_type": "code",
      "execution_count": 25,
      "metadata": {
        "id": "m1D6qv0-zYII"
      },
      "outputs": [],
      "source": [
        "from athina.keys import AthinaApiKey, OpenAiApiKey\n",
        "\n",
        "OpenAiApiKey.set_key(os.getenv('OPENAI_API_KEY'))\n",
        "AthinaApiKey.set_key(os.getenv('ATHINA_API_KEY'))"
      ]
    },
    {
      "cell_type": "code",
      "execution_count": 28,
      "metadata": {},
      "outputs": [
        {
          "name": "stdout",
          "output_type": "stream",
          "text": [
            "Found existing installation: litellm 1.67.4.post1\n",
            "Uninstalling litellm-1.67.4.post1:\n",
            "  Successfully uninstalled litellm-1.67.4.post1\n"
          ]
        },
        {
          "name": "stderr",
          "output_type": "stream",
          "text": [
            "WARNING: Ignoring invalid distribution -atplotlib (c:\\users\\patel\\appdata\\local\\programs\\python\\python310\\lib\\site-packages)\n",
            "WARNING: Ignoring invalid distribution -atplotlib (c:\\users\\patel\\appdata\\local\\programs\\python\\python310\\lib\\site-packages)\n",
            "ERROR: pip's dependency resolver does not currently take into account all the packages that are installed. This behaviour is the source of the following dependency conflicts.\n",
            "athina 1.7.39 requires litellm==1.67.4.post1, but you have litellm 1.20.7 which is incompatible.\n",
            "\n",
            "[notice] A new release of pip is available: 24.0 -> 25.1.1\n",
            "[notice] To update, run: python.exe -m pip install --upgrade pip\n"
          ]
        },
        {
          "name": "stdout",
          "output_type": "stream",
          "text": [
            "Collecting litellm==1.20.7\n",
            "  Downloading litellm-1.20.7-py3-none-any.whl.metadata (12 kB)\n",
            "Requirement already satisfied: aiohttp in c:\\users\\patel\\appdata\\local\\programs\\python\\python310\\lib\\site-packages (from litellm==1.20.7) (3.10.10)\n",
            "Requirement already satisfied: click in c:\\users\\patel\\appdata\\local\\programs\\python\\python310\\lib\\site-packages (from litellm==1.20.7) (8.1.7)\n",
            "Requirement already satisfied: importlib-metadata>=6.8.0 in c:\\users\\patel\\appdata\\local\\programs\\python\\python310\\lib\\site-packages (from litellm==1.20.7) (8.5.0)\n",
            "Requirement already satisfied: jinja2<4.0.0,>=3.1.2 in c:\\users\\patel\\appdata\\local\\programs\\python\\python310\\lib\\site-packages (from litellm==1.20.7) (3.1.6)\n",
            "Requirement already satisfied: openai>=1.0.0 in c:\\users\\patel\\appdata\\local\\programs\\python\\python310\\lib\\site-packages (from litellm==1.20.7) (1.82.1)\n",
            "Requirement already satisfied: python-dotenv>=0.2.0 in c:\\users\\patel\\appdata\\local\\programs\\python\\python310\\lib\\site-packages (from litellm==1.20.7) (1.0.1)\n",
            "Requirement already satisfied: requests<3.0.0,>=2.31.0 in c:\\users\\patel\\appdata\\local\\programs\\python\\python310\\lib\\site-packages (from litellm==1.20.7) (2.32.3)\n",
            "Requirement already satisfied: tiktoken>=0.4.0 in c:\\users\\patel\\appdata\\local\\programs\\python\\python310\\lib\\site-packages (from litellm==1.20.7) (0.8.0)\n",
            "Requirement already satisfied: tokenizers in c:\\users\\patel\\appdata\\local\\programs\\python\\python310\\lib\\site-packages (from litellm==1.20.7) (0.19.1)\n",
            "Requirement already satisfied: zipp>=3.20 in c:\\users\\patel\\appdata\\local\\programs\\python\\python310\\lib\\site-packages (from importlib-metadata>=6.8.0->litellm==1.20.7) (3.20.2)\n",
            "Requirement already satisfied: MarkupSafe>=2.0 in c:\\users\\patel\\appdata\\local\\programs\\python\\python310\\lib\\site-packages (from jinja2<4.0.0,>=3.1.2->litellm==1.20.7) (2.1.3)\n",
            "Requirement already satisfied: anyio<5,>=3.5.0 in c:\\users\\patel\\appdata\\local\\programs\\python\\python310\\lib\\site-packages (from openai>=1.0.0->litellm==1.20.7) (4.6.2.post1)\n",
            "Requirement already satisfied: distro<2,>=1.7.0 in c:\\users\\patel\\appdata\\local\\programs\\python\\python310\\lib\\site-packages (from openai>=1.0.0->litellm==1.20.7) (1.9.0)\n",
            "Requirement already satisfied: httpx<1,>=0.23.0 in c:\\users\\patel\\appdata\\local\\programs\\python\\python310\\lib\\site-packages (from openai>=1.0.0->litellm==1.20.7) (0.27.2)\n",
            "Requirement already satisfied: jiter<1,>=0.4.0 in c:\\users\\patel\\appdata\\local\\programs\\python\\python310\\lib\\site-packages (from openai>=1.0.0->litellm==1.20.7) (0.8.0)\n",
            "Requirement already satisfied: pydantic<3,>=1.9.0 in c:\\users\\patel\\appdata\\local\\programs\\python\\python310\\lib\\site-packages (from openai>=1.0.0->litellm==1.20.7) (2.9.2)\n",
            "Requirement already satisfied: sniffio in c:\\users\\patel\\appdata\\local\\programs\\python\\python310\\lib\\site-packages (from openai>=1.0.0->litellm==1.20.7) (1.3.1)\n",
            "Requirement already satisfied: tqdm>4 in c:\\users\\patel\\appdata\\local\\programs\\python\\python310\\lib\\site-packages (from openai>=1.0.0->litellm==1.20.7) (4.66.6)\n",
            "Requirement already satisfied: typing-extensions<5,>=4.11 in c:\\users\\patel\\appdata\\local\\programs\\python\\python310\\lib\\site-packages (from openai>=1.0.0->litellm==1.20.7) (4.12.2)\n",
            "Requirement already satisfied: charset-normalizer<4,>=2 in c:\\users\\patel\\appdata\\local\\programs\\python\\python310\\lib\\site-packages (from requests<3.0.0,>=2.31.0->litellm==1.20.7) (3.4.0)\n",
            "Requirement already satisfied: idna<4,>=2.5 in c:\\users\\patel\\appdata\\local\\programs\\python\\python310\\lib\\site-packages (from requests<3.0.0,>=2.31.0->litellm==1.20.7) (3.10)\n",
            "Requirement already satisfied: urllib3<3,>=1.21.1 in c:\\users\\patel\\appdata\\local\\programs\\python\\python310\\lib\\site-packages (from requests<3.0.0,>=2.31.0->litellm==1.20.7) (2.2.3)\n",
            "Requirement already satisfied: certifi>=2017.4.17 in c:\\users\\patel\\appdata\\local\\programs\\python\\python310\\lib\\site-packages (from requests<3.0.0,>=2.31.0->litellm==1.20.7) (2023.5.7)\n",
            "Requirement already satisfied: regex>=2022.1.18 in c:\\users\\patel\\appdata\\local\\programs\\python\\python310\\lib\\site-packages (from tiktoken>=0.4.0->litellm==1.20.7) (2024.11.6)\n",
            "Requirement already satisfied: aiohappyeyeballs>=2.3.0 in c:\\users\\patel\\appdata\\local\\programs\\python\\python310\\lib\\site-packages (from aiohttp->litellm==1.20.7) (2.4.3)\n",
            "Requirement already satisfied: aiosignal>=1.1.2 in c:\\users\\patel\\appdata\\local\\programs\\python\\python310\\lib\\site-packages (from aiohttp->litellm==1.20.7) (1.3.1)\n",
            "Requirement already satisfied: attrs>=17.3.0 in c:\\users\\patel\\appdata\\local\\programs\\python\\python310\\lib\\site-packages (from aiohttp->litellm==1.20.7) (24.2.0)\n",
            "Requirement already satisfied: frozenlist>=1.1.1 in c:\\users\\patel\\appdata\\local\\programs\\python\\python310\\lib\\site-packages (from aiohttp->litellm==1.20.7) (1.5.0)\n",
            "Requirement already satisfied: multidict<7.0,>=4.5 in c:\\users\\patel\\appdata\\local\\programs\\python\\python310\\lib\\site-packages (from aiohttp->litellm==1.20.7) (6.1.0)\n",
            "Requirement already satisfied: yarl<2.0,>=1.12.0 in c:\\users\\patel\\appdata\\local\\programs\\python\\python310\\lib\\site-packages (from aiohttp->litellm==1.20.7) (1.17.1)\n",
            "Requirement already satisfied: async-timeout<5.0,>=4.0 in c:\\users\\patel\\appdata\\local\\programs\\python\\python310\\lib\\site-packages (from aiohttp->litellm==1.20.7) (4.0.3)\n",
            "Requirement already satisfied: colorama in c:\\users\\patel\\appdata\\roaming\\python\\python310\\site-packages (from click->litellm==1.20.7) (0.4.6)\n",
            "Requirement already satisfied: huggingface-hub<1.0,>=0.16.4 in c:\\users\\patel\\appdata\\local\\programs\\python\\python310\\lib\\site-packages (from tokenizers->litellm==1.20.7) (0.28.1)\n",
            "Requirement already satisfied: exceptiongroup>=1.0.2 in c:\\users\\patel\\appdata\\roaming\\python\\python310\\site-packages (from anyio<5,>=3.5.0->openai>=1.0.0->litellm==1.20.7) (1.2.0)\n",
            "Requirement already satisfied: httpcore==1.* in c:\\users\\patel\\appdata\\local\\programs\\python\\python310\\lib\\site-packages (from httpx<1,>=0.23.0->openai>=1.0.0->litellm==1.20.7) (1.0.6)\n",
            "Requirement already satisfied: h11<0.15,>=0.13 in c:\\users\\patel\\appdata\\local\\programs\\python\\python310\\lib\\site-packages (from httpcore==1.*->httpx<1,>=0.23.0->openai>=1.0.0->litellm==1.20.7) (0.14.0)\n",
            "Requirement already satisfied: filelock in c:\\users\\patel\\appdata\\local\\programs\\python\\python310\\lib\\site-packages (from huggingface-hub<1.0,>=0.16.4->tokenizers->litellm==1.20.7) (3.13.4)\n",
            "Requirement already satisfied: fsspec>=2023.5.0 in c:\\users\\patel\\appdata\\local\\programs\\python\\python310\\lib\\site-packages (from huggingface-hub<1.0,>=0.16.4->tokenizers->litellm==1.20.7) (2024.6.1)\n",
            "Requirement already satisfied: packaging>=20.9 in c:\\users\\patel\\appdata\\roaming\\python\\python310\\site-packages (from huggingface-hub<1.0,>=0.16.4->tokenizers->litellm==1.20.7) (24.0)\n",
            "Requirement already satisfied: pyyaml>=5.1 in c:\\users\\patel\\appdata\\local\\programs\\python\\python310\\lib\\site-packages (from huggingface-hub<1.0,>=0.16.4->tokenizers->litellm==1.20.7) (6.0.2)\n",
            "Requirement already satisfied: annotated-types>=0.6.0 in c:\\users\\patel\\appdata\\local\\programs\\python\\python310\\lib\\site-packages (from pydantic<3,>=1.9.0->openai>=1.0.0->litellm==1.20.7) (0.7.0)\n",
            "Requirement already satisfied: pydantic-core==2.23.4 in c:\\users\\patel\\appdata\\local\\programs\\python\\python310\\lib\\site-packages (from pydantic<3,>=1.9.0->openai>=1.0.0->litellm==1.20.7) (2.23.4)\n",
            "Requirement already satisfied: propcache>=0.2.0 in c:\\users\\patel\\appdata\\local\\programs\\python\\python310\\lib\\site-packages (from yarl<2.0,>=1.12.0->aiohttp->litellm==1.20.7) (0.2.0)\n",
            "Downloading litellm-1.20.7-py3-none-any.whl (2.4 MB)\n",
            "   ---------------------------------------- 0.0/2.4 MB ? eta -:--:--\n",
            "   - -------------------------------------- 0.1/2.4 MB 3.3 MB/s eta 0:00:01\n",
            "   ---------- ----------------------------- 0.7/2.4 MB 8.4 MB/s eta 0:00:01\n",
            "   ------------------------------ --------- 1.9/2.4 MB 14.8 MB/s eta 0:00:01\n",
            "   ---------------------------------------  2.4/2.4 MB 17.4 MB/s eta 0:00:01\n",
            "   ---------------------------------------- 2.4/2.4 MB 14.2 MB/s eta 0:00:00\n",
            "Installing collected packages: litellm\n",
            "Successfully installed litellm-1.20.7\n"
          ]
        }
      ],
      "source": [
        "!pip uninstall litellm -y\n",
        "!pip install \"litellm==1.20.7\""
      ]
    },
    {
      "cell_type": "code",
      "execution_count": 33,
      "metadata": {},
      "outputs": [
        {
          "name": "stdout",
          "output_type": "stream",
          "text": [
            "Found existing installation: athina 1.7.39\n",
            "Uninstalling athina-1.7.39:\n",
            "  Successfully uninstalled athina-1.7.39\n",
            "Collecting athina\n",
            "  Using cached athina-1.7.39-py3-none-any.whl.metadata (3.5 kB)\n",
            "Requirement already satisfied: RestrictedPython<8.0,>=7.1 in c:\\users\\patel\\appdata\\local\\programs\\python\\python310\\lib\\site-packages (from athina) (7.4)\n",
            "Requirement already satisfied: bandit<2.0.0,>=1.7.8 in c:\\users\\patel\\appdata\\local\\programs\\python\\python310\\lib\\site-packages (from athina) (1.8.2)\n",
            "Requirement already satisfied: chromadb-client<0.6.0,>=0.5.20 in c:\\users\\patel\\appdata\\local\\programs\\python\\python310\\lib\\site-packages (from athina) (0.5.23)\n",
            "Requirement already satisfied: colorlog<7.0.0,>=6.7.0 in c:\\users\\patel\\appdata\\local\\programs\\python\\python310\\lib\\site-packages (from athina) (6.9.0)\n",
            "Requirement already satisfied: datasets<3.0.0,>=2.16.0 in c:\\users\\patel\\appdata\\local\\programs\\python\\python310\\lib\\site-packages (from athina) (2.21.0)\n",
            "Requirement already satisfied: editdistance<0.9.0,>=0.8.1 in c:\\users\\patel\\appdata\\local\\programs\\python\\python310\\lib\\site-packages (from athina) (0.8.1)\n",
            "Requirement already satisfied: jinja2<4.0.0,>=3.1.4 in c:\\users\\patel\\appdata\\local\\programs\\python\\python310\\lib\\site-packages (from athina) (3.1.6)\n",
            "Requirement already satisfied: jsonpath-ng<2.0.0,>=1.6.0 in c:\\users\\patel\\appdata\\local\\programs\\python\\python310\\lib\\site-packages (from athina) (1.7.0)\n",
            "Requirement already satisfied: jsonschema<5.0.0,>=4.22.0 in c:\\users\\patel\\appdata\\local\\programs\\python\\python310\\lib\\site-packages (from athina) (4.23.0)\n",
            "Collecting litellm==1.67.4.post1 (from athina)\n",
            "  Using cached litellm-1.67.4.post1-py3-none-any.whl\n",
            "Requirement already satisfied: llama-index<0.12.0,>=0.11.0 in c:\\users\\patel\\appdata\\local\\programs\\python\\python310\\lib\\site-packages (from athina) (0.11.23)\n",
            "Requirement already satisfied: llama-index-vector-stores-pinecone<0.4.0,>=0.3.1 in c:\\users\\patel\\appdata\\local\\programs\\python\\python310\\lib\\site-packages (from athina) (0.3.1)\n",
            "Requirement already satisfied: llama-index-vector-stores-qdrant<0.4.0,>=0.3.0 in c:\\users\\patel\\appdata\\local\\programs\\python\\python310\\lib\\site-packages (from athina) (0.3.3)\n",
            "Requirement already satisfied: marvin<3.0.0,>=2.3.4 in c:\\users\\patel\\appdata\\local\\programs\\python\\python310\\lib\\site-packages (from athina) (2.3.8)\n",
            "Requirement already satisfied: openai<2.0.0,>=1.3.4 in c:\\users\\patel\\appdata\\local\\programs\\python\\python310\\lib\\site-packages (from athina) (1.82.1)\n",
            "Requirement already satisfied: pandas in c:\\users\\patel\\appdata\\local\\programs\\python\\python310\\lib\\site-packages (from athina) (2.1.2)\n",
            "Requirement already satisfied: pinecone-client<5.0.0,>=4.1.0 in c:\\users\\patel\\appdata\\local\\programs\\python\\python310\\lib\\site-packages (from athina) (4.1.2)\n",
            "Requirement already satisfied: pydantic<3.0.0,>=2.6.3 in c:\\users\\patel\\appdata\\local\\programs\\python\\python310\\lib\\site-packages (from athina) (2.9.2)\n",
            "Requirement already satisfied: pydantic-settings<3.0.0,>=2.2.1 in c:\\users\\patel\\appdata\\local\\programs\\python\\python310\\lib\\site-packages (from athina) (2.6.1)\n",
            "Requirement already satisfied: pydantic_core<3.0.0,>=2.16.3 in c:\\users\\patel\\appdata\\local\\programs\\python\\python310\\lib\\site-packages (from athina) (2.23.4)\n",
            "Requirement already satisfied: python-dotenv<2.0.0,>=1.0.0 in c:\\users\\patel\\appdata\\local\\programs\\python\\python310\\lib\\site-packages (from athina) (1.0.1)\n",
            "Requirement already satisfied: pyyaml<7.0.0,>=6.0.1 in c:\\users\\patel\\appdata\\local\\programs\\python\\python310\\lib\\site-packages (from athina) (6.0.2)\n",
            "Requirement already satisfied: qdrant-client<2.0.0,>=1.9.1 in c:\\users\\patel\\appdata\\local\\programs\\python\\python310\\lib\\site-packages (from athina) (1.13.2)\n",
            "Requirement already satisfied: ragas<0.3.0,>=0.2.8 in c:\\users\\patel\\appdata\\local\\programs\\python\\python310\\lib\\site-packages (from athina) (0.2.15)\n",
            "Requirement already satisfied: requests<3.0.0,>=2.31.0 in c:\\users\\patel\\appdata\\local\\programs\\python\\python310\\lib\\site-packages (from athina) (2.32.3)\n",
            "Requirement already satisfied: retrying<2.0.0,>=1.3.4 in c:\\users\\patel\\appdata\\local\\programs\\python\\python310\\lib\\site-packages (from athina) (1.3.4)\n",
            "Requirement already satisfied: textdistance<5.0.0,>=4.6.3 in c:\\users\\patel\\appdata\\local\\programs\\python\\python310\\lib\\site-packages (from athina) (4.6.3)\n",
            "Requirement already satisfied: textstat<0.8.0,>=0.7.4 in c:\\users\\patel\\appdata\\local\\programs\\python\\python310\\lib\\site-packages (from athina) (0.7.5)\n",
            "Requirement already satisfied: tiktoken<0.9.0,>=0.8.0 in c:\\users\\patel\\appdata\\local\\programs\\python\\python310\\lib\\site-packages (from athina) (0.8.0)\n",
            "Requirement already satisfied: timeout-decorator<0.6.0,>=0.5.0 in c:\\users\\patel\\appdata\\local\\programs\\python\\python310\\lib\\site-packages (from athina) (0.5.0)\n",
            "Requirement already satisfied: tokenizers<0.20,>=0.19 in c:\\users\\patel\\appdata\\local\\programs\\python\\python310\\lib\\site-packages (from athina) (0.19.1)\n",
            "Requirement already satisfied: weaviate-client<5.0.0,>=4.9.0 in c:\\users\\patel\\appdata\\local\\programs\\python\\python310\\lib\\site-packages (from athina) (4.10.4)\n",
            "Requirement already satisfied: aiohttp in c:\\users\\patel\\appdata\\local\\programs\\python\\python310\\lib\\site-packages (from litellm==1.67.4.post1->athina) (3.10.10)\n",
            "Requirement already satisfied: click in c:\\users\\patel\\appdata\\local\\programs\\python\\python310\\lib\\site-packages (from litellm==1.67.4.post1->athina) (8.1.7)\n",
            "Requirement already satisfied: httpx>=0.23.0 in c:\\users\\patel\\appdata\\local\\programs\\python\\python310\\lib\\site-packages (from litellm==1.67.4.post1->athina) (0.27.2)\n",
            "Requirement already satisfied: importlib-metadata>=6.8.0 in c:\\users\\patel\\appdata\\local\\programs\\python\\python310\\lib\\site-packages (from litellm==1.67.4.post1->athina) (8.5.0)\n",
            "Requirement already satisfied: stevedore>=1.20.0 in c:\\users\\patel\\appdata\\local\\programs\\python\\python310\\lib\\site-packages (from bandit<2.0.0,>=1.7.8->athina) (5.4.0)\n",
            "Requirement already satisfied: rich in c:\\users\\patel\\appdata\\local\\programs\\python\\python310\\lib\\site-packages (from bandit<2.0.0,>=1.7.8->athina) (13.9.4)\n",
            "Requirement already satisfied: colorama>=0.3.9 in c:\\users\\patel\\appdata\\roaming\\python\\python310\\site-packages (from bandit<2.0.0,>=1.7.8->athina) (0.4.6)\n",
            "Requirement already satisfied: numpy<2.0.0,>=1.22.5 in c:\\users\\patel\\appdata\\local\\programs\\python\\python310\\lib\\site-packages (from chromadb-client<0.6.0,>=0.5.20->athina) (1.26.0)\n",
            "Requirement already satisfied: opentelemetry-api>=1.2.0 in c:\\users\\patel\\appdata\\local\\programs\\python\\python310\\lib\\site-packages (from chromadb-client<0.6.0,>=0.5.20->athina) (1.28.2)\n",
            "Requirement already satisfied: opentelemetry-exporter-otlp-proto-grpc>=1.2.0 in c:\\users\\patel\\appdata\\local\\programs\\python\\python310\\lib\\site-packages (from chromadb-client<0.6.0,>=0.5.20->athina) (1.28.2)\n",
            "Requirement already satisfied: opentelemetry-sdk>=1.2.0 in c:\\users\\patel\\appdata\\local\\programs\\python\\python310\\lib\\site-packages (from chromadb-client<0.6.0,>=0.5.20->athina) (1.28.2)\n",
            "Requirement already satisfied: overrides>=7.3.1 in c:\\users\\patel\\appdata\\local\\programs\\python\\python310\\lib\\site-packages (from chromadb-client<0.6.0,>=0.5.20->athina) (7.7.0)\n",
            "Requirement already satisfied: posthog>=2.4.0 in c:\\users\\patel\\appdata\\local\\programs\\python\\python310\\lib\\site-packages (from chromadb-client<0.6.0,>=0.5.20->athina) (3.7.4)\n",
            "Requirement already satisfied: typing_extensions>=4.5.0 in c:\\users\\patel\\appdata\\local\\programs\\python\\python310\\lib\\site-packages (from chromadb-client<0.6.0,>=0.5.20->athina) (4.12.2)\n",
            "Requirement already satisfied: tenacity>=8.2.3 in c:\\users\\patel\\appdata\\local\\programs\\python\\python310\\lib\\site-packages (from chromadb-client<0.6.0,>=0.5.20->athina) (8.5.0)\n",
            "Requirement already satisfied: orjson>=3.9.12 in c:\\users\\patel\\appdata\\local\\programs\\python\\python310\\lib\\site-packages (from chromadb-client<0.6.0,>=0.5.20->athina) (3.10.12)\n",
            "Requirement already satisfied: filelock in c:\\users\\patel\\appdata\\local\\programs\\python\\python310\\lib\\site-packages (from datasets<3.0.0,>=2.16.0->athina) (3.13.4)\n",
            "Requirement already satisfied: pyarrow>=15.0.0 in c:\\users\\patel\\appdata\\local\\programs\\python\\python310\\lib\\site-packages (from datasets<3.0.0,>=2.16.0->athina) (18.0.0)\n",
            "Requirement already satisfied: dill<0.3.9,>=0.3.0 in c:\\users\\patel\\appdata\\local\\programs\\python\\python310\\lib\\site-packages (from datasets<3.0.0,>=2.16.0->athina) (0.3.8)\n",
            "Requirement already satisfied: tqdm>=4.66.3 in c:\\users\\patel\\appdata\\local\\programs\\python\\python310\\lib\\site-packages (from datasets<3.0.0,>=2.16.0->athina) (4.66.6)\n",
            "Requirement already satisfied: xxhash in c:\\users\\patel\\appdata\\local\\programs\\python\\python310\\lib\\site-packages (from datasets<3.0.0,>=2.16.0->athina) (3.5.0)\n",
            "Requirement already satisfied: multiprocess in c:\\users\\patel\\appdata\\local\\programs\\python\\python310\\lib\\site-packages (from datasets<3.0.0,>=2.16.0->athina) (0.70.16)\n",
            "Requirement already satisfied: fsspec<=2024.6.1,>=2023.1.0 in c:\\users\\patel\\appdata\\local\\programs\\python\\python310\\lib\\site-packages (from fsspec[http]<=2024.6.1,>=2023.1.0->datasets<3.0.0,>=2.16.0->athina) (2024.6.1)\n",
            "Requirement already satisfied: huggingface-hub>=0.21.2 in c:\\users\\patel\\appdata\\local\\programs\\python\\python310\\lib\\site-packages (from datasets<3.0.0,>=2.16.0->athina) (0.28.1)\n",
            "Requirement already satisfied: packaging in c:\\users\\patel\\appdata\\roaming\\python\\python310\\site-packages (from datasets<3.0.0,>=2.16.0->athina) (24.0)\n",
            "Requirement already satisfied: MarkupSafe>=2.0 in c:\\users\\patel\\appdata\\local\\programs\\python\\python310\\lib\\site-packages (from jinja2<4.0.0,>=3.1.4->athina) (2.1.3)\n",
            "Requirement already satisfied: ply in c:\\users\\patel\\appdata\\local\\programs\\python\\python310\\lib\\site-packages (from jsonpath-ng<2.0.0,>=1.6.0->athina) (3.11)\n",
            "Requirement already satisfied: attrs>=22.2.0 in c:\\users\\patel\\appdata\\local\\programs\\python\\python310\\lib\\site-packages (from jsonschema<5.0.0,>=4.22.0->athina) (24.2.0)\n",
            "Requirement already satisfied: jsonschema-specifications>=2023.03.6 in c:\\users\\patel\\appdata\\local\\programs\\python\\python310\\lib\\site-packages (from jsonschema<5.0.0,>=4.22.0->athina) (2024.10.1)\n",
            "Requirement already satisfied: referencing>=0.28.4 in c:\\users\\patel\\appdata\\local\\programs\\python\\python310\\lib\\site-packages (from jsonschema<5.0.0,>=4.22.0->athina) (0.35.1)\n",
            "Requirement already satisfied: rpds-py>=0.7.1 in c:\\users\\patel\\appdata\\local\\programs\\python\\python310\\lib\\site-packages (from jsonschema<5.0.0,>=4.22.0->athina) (0.20.1)\n",
            "Requirement already satisfied: llama-index-agent-openai<0.4.0,>=0.3.4 in c:\\users\\patel\\appdata\\local\\programs\\python\\python310\\lib\\site-packages (from llama-index<0.12.0,>=0.11.0->athina) (0.3.4)\n",
            "Requirement already satisfied: llama-index-cli<0.4.0,>=0.3.1 in c:\\users\\patel\\appdata\\local\\programs\\python\\python310\\lib\\site-packages (from llama-index<0.12.0,>=0.11.0->athina) (0.3.1)\n",
            "Requirement already satisfied: llama-index-core<0.12.0,>=0.11.23 in c:\\users\\patel\\appdata\\local\\programs\\python\\python310\\lib\\site-packages (from llama-index<0.12.0,>=0.11.0->athina) (0.11.23)\n",
            "Requirement already satisfied: llama-index-embeddings-openai<0.3.0,>=0.2.4 in c:\\users\\patel\\appdata\\local\\programs\\python\\python310\\lib\\site-packages (from llama-index<0.12.0,>=0.11.0->athina) (0.2.5)\n",
            "Requirement already satisfied: llama-index-indices-managed-llama-cloud>=0.3.0 in c:\\users\\patel\\appdata\\local\\programs\\python\\python310\\lib\\site-packages (from llama-index<0.12.0,>=0.11.0->athina) (0.6.0)\n",
            "Requirement already satisfied: llama-index-legacy<0.10.0,>=0.9.48 in c:\\users\\patel\\appdata\\local\\programs\\python\\python310\\lib\\site-packages (from llama-index<0.12.0,>=0.11.0->athina) (0.9.48.post4)\n",
            "Requirement already satisfied: llama-index-llms-openai<0.3.0,>=0.2.10 in c:\\users\\patel\\appdata\\local\\programs\\python\\python310\\lib\\site-packages (from llama-index<0.12.0,>=0.11.0->athina) (0.2.16)\n",
            "Requirement already satisfied: llama-index-multi-modal-llms-openai<0.3.0,>=0.2.0 in c:\\users\\patel\\appdata\\local\\programs\\python\\python310\\lib\\site-packages (from llama-index<0.12.0,>=0.11.0->athina) (0.2.3)\n",
            "Requirement already satisfied: llama-index-program-openai<0.3.0,>=0.2.0 in c:\\users\\patel\\appdata\\local\\programs\\python\\python310\\lib\\site-packages (from llama-index<0.12.0,>=0.11.0->athina) (0.2.0)\n",
            "Requirement already satisfied: llama-index-question-gen-openai<0.3.0,>=0.2.0 in c:\\users\\patel\\appdata\\local\\programs\\python\\python310\\lib\\site-packages (from llama-index<0.12.0,>=0.11.0->athina) (0.2.0)\n",
            "Requirement already satisfied: llama-index-readers-file<0.4.0,>=0.3.0 in c:\\users\\patel\\appdata\\local\\programs\\python\\python310\\lib\\site-packages (from llama-index<0.12.0,>=0.11.0->athina) (0.3.0)\n",
            "Requirement already satisfied: llama-index-readers-llama-parse>=0.3.0 in c:\\users\\patel\\appdata\\local\\programs\\python\\python310\\lib\\site-packages (from llama-index<0.12.0,>=0.11.0->athina) (0.3.0)\n",
            "Requirement already satisfied: nltk>3.8.1 in c:\\users\\patel\\appdata\\local\\programs\\python\\python310\\lib\\site-packages (from llama-index<0.12.0,>=0.11.0->athina) (3.9.1)\n",
            "Requirement already satisfied: grpcio<2.0.0,>=1.60.0 in c:\\users\\patel\\appdata\\local\\programs\\python\\python310\\lib\\site-packages (from llama-index-vector-stores-qdrant<0.4.0,>=0.3.0->athina) (1.70.0)\n",
            "Requirement already satisfied: cachetools>=5 in c:\\users\\patel\\appdata\\local\\programs\\python\\python310\\lib\\site-packages (from marvin<3.0.0,>=2.3.4->athina) (5.5.0)\n",
            "Requirement already satisfied: fastapi in c:\\users\\patel\\appdata\\local\\programs\\python\\python310\\lib\\site-packages (from marvin<3.0.0,>=2.3.4->athina) (0.115.5)\n",
            "Requirement already satisfied: jsonpatch>=1.33 in c:\\users\\patel\\appdata\\local\\programs\\python\\python310\\lib\\site-packages (from marvin<3.0.0,>=2.3.4->athina) (1.33)\n",
            "Requirement already satisfied: prompt-toolkit>=3.0.33 in c:\\users\\patel\\appdata\\roaming\\python\\python310\\site-packages (from marvin<3.0.0,>=2.3.4->athina) (3.0.43)\n",
            "Requirement already satisfied: typer>=0.9.0 in c:\\users\\patel\\appdata\\local\\programs\\python\\python310\\lib\\site-packages (from marvin<3.0.0,>=2.3.4->athina) (0.15.1)\n",
            "Requirement already satisfied: tzdata>=2023.3 in c:\\users\\patel\\appdata\\local\\programs\\python\\python310\\lib\\site-packages (from marvin<3.0.0,>=2.3.4->athina) (2024.2)\n",
            "Requirement already satisfied: uvicorn>=0.22.0 in c:\\users\\patel\\appdata\\local\\programs\\python\\python310\\lib\\site-packages (from marvin<3.0.0,>=2.3.4->athina) (0.32.1)\n",
            "Requirement already satisfied: partialjson>=0.0.5 in c:\\users\\patel\\appdata\\local\\programs\\python\\python310\\lib\\site-packages (from marvin<3.0.0,>=2.3.4->athina) (0.1.0)\n",
            "Requirement already satisfied: anyio<5,>=3.5.0 in c:\\users\\patel\\appdata\\local\\programs\\python\\python310\\lib\\site-packages (from openai<2.0.0,>=1.3.4->athina) (4.6.2.post1)\n",
            "Requirement already satisfied: distro<2,>=1.7.0 in c:\\users\\patel\\appdata\\local\\programs\\python\\python310\\lib\\site-packages (from openai<2.0.0,>=1.3.4->athina) (1.9.0)\n",
            "Requirement already satisfied: jiter<1,>=0.4.0 in c:\\users\\patel\\appdata\\local\\programs\\python\\python310\\lib\\site-packages (from openai<2.0.0,>=1.3.4->athina) (0.8.0)\n",
            "Requirement already satisfied: sniffio in c:\\users\\patel\\appdata\\local\\programs\\python\\python310\\lib\\site-packages (from openai<2.0.0,>=1.3.4->athina) (1.3.1)\n",
            "Requirement already satisfied: certifi>=2019.11.17 in c:\\users\\patel\\appdata\\local\\programs\\python\\python310\\lib\\site-packages (from pinecone-client<5.0.0,>=4.1.0->athina) (2023.5.7)\n",
            "Requirement already satisfied: pinecone-plugin-interface<0.0.8,>=0.0.7 in c:\\users\\patel\\appdata\\local\\programs\\python\\python310\\lib\\site-packages (from pinecone-client<5.0.0,>=4.1.0->athina) (0.0.7)\n",
            "Requirement already satisfied: urllib3>=1.26.0 in c:\\users\\patel\\appdata\\local\\programs\\python\\python310\\lib\\site-packages (from pinecone-client<5.0.0,>=4.1.0->athina) (2.2.3)\n",
            "Requirement already satisfied: annotated-types>=0.6.0 in c:\\users\\patel\\appdata\\local\\programs\\python\\python310\\lib\\site-packages (from pydantic<3.0.0,>=2.6.3->athina) (0.7.0)\n",
            "Requirement already satisfied: grpcio-tools>=1.41.0 in c:\\users\\patel\\appdata\\local\\programs\\python\\python310\\lib\\site-packages (from qdrant-client<2.0.0,>=1.9.1->athina) (1.70.0)\n",
            "Requirement already satisfied: portalocker<3.0.0,>=2.7.0 in c:\\users\\patel\\appdata\\local\\programs\\python\\python310\\lib\\site-packages (from qdrant-client<2.0.0,>=1.9.1->athina) (2.10.1)\n",
            "Requirement already satisfied: langchain in c:\\users\\patel\\appdata\\local\\programs\\python\\python310\\lib\\site-packages (from ragas<0.3.0,>=0.2.8->athina) (0.3.25)\n",
            "Requirement already satisfied: langchain-core in c:\\users\\patel\\appdata\\local\\programs\\python\\python310\\lib\\site-packages (from ragas<0.3.0,>=0.2.8->athina) (0.3.63)\n",
            "Requirement already satisfied: langchain-community in c:\\users\\patel\\appdata\\local\\programs\\python\\python310\\lib\\site-packages (from ragas<0.3.0,>=0.2.8->athina) (0.3.15)\n",
            "Requirement already satisfied: langchain_openai in c:\\users\\patel\\appdata\\local\\programs\\python\\python310\\lib\\site-packages (from ragas<0.3.0,>=0.2.8->athina) (0.3.18)\n",
            "Requirement already satisfied: nest-asyncio in c:\\users\\patel\\appdata\\roaming\\python\\python310\\site-packages (from ragas<0.3.0,>=0.2.8->athina) (1.6.0)\n",
            "Requirement already satisfied: appdirs in c:\\users\\patel\\appdata\\local\\programs\\python\\python310\\lib\\site-packages (from ragas<0.3.0,>=0.2.8->athina) (1.4.4)\n",
            "Requirement already satisfied: diskcache>=5.6.3 in c:\\users\\patel\\appdata\\local\\programs\\python\\python310\\lib\\site-packages (from ragas<0.3.0,>=0.2.8->athina) (5.6.3)\n",
            "Requirement already satisfied: charset-normalizer<4,>=2 in c:\\users\\patel\\appdata\\local\\programs\\python\\python310\\lib\\site-packages (from requests<3.0.0,>=2.31.0->athina) (3.4.0)\n",
            "Requirement already satisfied: idna<4,>=2.5 in c:\\users\\patel\\appdata\\local\\programs\\python\\python310\\lib\\site-packages (from requests<3.0.0,>=2.31.0->athina) (3.10)\n",
            "Requirement already satisfied: six>=1.7.0 in c:\\users\\patel\\appdata\\roaming\\python\\python310\\site-packages (from retrying<2.0.0,>=1.3.4->athina) (1.16.0)\n",
            "Requirement already satisfied: pyphen in c:\\users\\patel\\appdata\\local\\programs\\python\\python310\\lib\\site-packages (from textstat<0.8.0,>=0.7.4->athina) (0.17.2)\n",
            "Requirement already satisfied: cmudict in c:\\users\\patel\\appdata\\local\\programs\\python\\python310\\lib\\site-packages (from textstat<0.8.0,>=0.7.4->athina) (1.0.32)\n",
            "Requirement already satisfied: setuptools in c:\\users\\patel\\appdata\\local\\programs\\python\\python310\\lib\\site-packages (from textstat<0.8.0,>=0.7.4->athina) (65.5.0)\n",
            "Requirement already satisfied: regex>=2022.1.18 in c:\\users\\patel\\appdata\\local\\programs\\python\\python310\\lib\\site-packages (from tiktoken<0.9.0,>=0.8.0->athina) (2024.11.6)\n",
            "Requirement already satisfied: validators==0.34.0 in c:\\users\\patel\\appdata\\local\\programs\\python\\python310\\lib\\site-packages (from weaviate-client<5.0.0,>=4.9.0->athina) (0.34.0)\n",
            "Requirement already satisfied: authlib<1.3.2,>=1.2.1 in c:\\users\\patel\\appdata\\local\\programs\\python\\python310\\lib\\site-packages (from weaviate-client<5.0.0,>=4.9.0->athina) (1.3.1)\n",
            "Requirement already satisfied: grpcio-health-checking<2.0.0,>=1.66.2 in c:\\users\\patel\\appdata\\local\\programs\\python\\python310\\lib\\site-packages (from weaviate-client<5.0.0,>=4.9.0->athina) (1.70.0)\n",
            "Requirement already satisfied: python-dateutil>=2.8.2 in c:\\users\\patel\\appdata\\roaming\\python\\python310\\site-packages (from pandas->athina) (2.9.0.post0)\n",
            "Requirement already satisfied: pytz>=2020.1 in c:\\users\\patel\\appdata\\local\\programs\\python\\python310\\lib\\site-packages (from pandas->athina) (2024.2)\n",
            "Requirement already satisfied: exceptiongroup>=1.0.2 in c:\\users\\patel\\appdata\\roaming\\python\\python310\\site-packages (from anyio<5,>=3.5.0->openai<2.0.0,>=1.3.4->athina) (1.2.0)\n",
            "Requirement already satisfied: cryptography in c:\\users\\patel\\appdata\\local\\programs\\python\\python310\\lib\\site-packages (from authlib<1.3.2,>=1.2.1->weaviate-client<5.0.0,>=4.9.0->athina) (44.0.0)\n",
            "Requirement already satisfied: aiohappyeyeballs>=2.3.0 in c:\\users\\patel\\appdata\\local\\programs\\python\\python310\\lib\\site-packages (from aiohttp->litellm==1.67.4.post1->athina) (2.4.3)\n",
            "Requirement already satisfied: aiosignal>=1.1.2 in c:\\users\\patel\\appdata\\local\\programs\\python\\python310\\lib\\site-packages (from aiohttp->litellm==1.67.4.post1->athina) (1.3.1)\n",
            "Requirement already satisfied: frozenlist>=1.1.1 in c:\\users\\patel\\appdata\\local\\programs\\python\\python310\\lib\\site-packages (from aiohttp->litellm==1.67.4.post1->athina) (1.5.0)\n",
            "Requirement already satisfied: multidict<7.0,>=4.5 in c:\\users\\patel\\appdata\\local\\programs\\python\\python310\\lib\\site-packages (from aiohttp->litellm==1.67.4.post1->athina) (6.1.0)\n",
            "Requirement already satisfied: yarl<2.0,>=1.12.0 in c:\\users\\patel\\appdata\\local\\programs\\python\\python310\\lib\\site-packages (from aiohttp->litellm==1.67.4.post1->athina) (1.17.1)\n",
            "Requirement already satisfied: async-timeout<5.0,>=4.0 in c:\\users\\patel\\appdata\\local\\programs\\python\\python310\\lib\\site-packages (from aiohttp->litellm==1.67.4.post1->athina) (4.0.3)\n",
            "Requirement already satisfied: protobuf<6.0dev,>=5.26.1 in c:\\users\\patel\\appdata\\local\\programs\\python\\python310\\lib\\site-packages (from grpcio-health-checking<2.0.0,>=1.66.2->weaviate-client<5.0.0,>=4.9.0->athina) (5.29.0)\n",
            "Requirement already satisfied: httpcore==1.* in c:\\users\\patel\\appdata\\local\\programs\\python\\python310\\lib\\site-packages (from httpx>=0.23.0->litellm==1.67.4.post1->athina) (1.0.6)\n",
            "Requirement already satisfied: h11<0.15,>=0.13 in c:\\users\\patel\\appdata\\local\\programs\\python\\python310\\lib\\site-packages (from httpcore==1.*->httpx>=0.23.0->litellm==1.67.4.post1->athina) (0.14.0)\n",
            "Requirement already satisfied: h2<5,>=3 in c:\\users\\patel\\appdata\\local\\programs\\python\\python310\\lib\\site-packages (from httpx[http2]>=0.20.0->qdrant-client<2.0.0,>=1.9.1->athina) (4.1.0)\n",
            "Requirement already satisfied: zipp>=3.20 in c:\\users\\patel\\appdata\\local\\programs\\python\\python310\\lib\\site-packages (from importlib-metadata>=6.8.0->litellm==1.67.4.post1->athina) (3.20.2)\n",
            "Requirement already satisfied: jsonpointer>=1.9 in c:\\users\\patel\\appdata\\local\\programs\\python\\python310\\lib\\site-packages (from jsonpatch>=1.33->marvin<3.0.0,>=2.3.4->athina) (3.0.0)\n",
            "Requirement already satisfied: SQLAlchemy>=1.4.49 in c:\\users\\patel\\appdata\\local\\programs\\python\\python310\\lib\\site-packages (from SQLAlchemy[asyncio]>=1.4.49->llama-index-core<0.12.0,>=0.11.23->llama-index<0.12.0,>=0.11.0->athina) (2.0.29)\n",
            "Requirement already satisfied: dataclasses-json in c:\\users\\patel\\appdata\\local\\programs\\python\\python310\\lib\\site-packages (from llama-index-core<0.12.0,>=0.11.23->llama-index<0.12.0,>=0.11.0->athina) (0.6.7)\n",
            "Requirement already satisfied: deprecated>=1.2.9.3 in c:\\users\\patel\\appdata\\local\\programs\\python\\python310\\lib\\site-packages (from llama-index-core<0.12.0,>=0.11.23->llama-index<0.12.0,>=0.11.0->athina) (1.2.15)\n",
            "Requirement already satisfied: dirtyjson<2.0.0,>=1.0.8 in c:\\users\\patel\\appdata\\local\\programs\\python\\python310\\lib\\site-packages (from llama-index-core<0.12.0,>=0.11.23->llama-index<0.12.0,>=0.11.0->athina) (1.0.8)\n",
            "Requirement already satisfied: filetype<2.0.0,>=1.2.0 in c:\\users\\patel\\appdata\\local\\programs\\python\\python310\\lib\\site-packages (from llama-index-core<0.12.0,>=0.11.23->llama-index<0.12.0,>=0.11.0->athina) (1.2.0)\n",
            "Requirement already satisfied: networkx>=3.0 in c:\\users\\patel\\appdata\\local\\programs\\python\\python310\\lib\\site-packages (from llama-index-core<0.12.0,>=0.11.23->llama-index<0.12.0,>=0.11.0->athina) (3.4.2)\n",
            "Requirement already satisfied: pillow>=9.0.0 in c:\\users\\patel\\appdata\\local\\programs\\python\\python310\\lib\\site-packages (from llama-index-core<0.12.0,>=0.11.23->llama-index<0.12.0,>=0.11.0->athina) (10.4.0)\n",
            "Requirement already satisfied: typing-inspect>=0.8.0 in c:\\users\\patel\\appdata\\local\\programs\\python\\python310\\lib\\site-packages (from llama-index-core<0.12.0,>=0.11.23->llama-index<0.12.0,>=0.11.0->athina) (0.9.0)\n",
            "Requirement already satisfied: wrapt in c:\\users\\patel\\appdata\\local\\programs\\python\\python310\\lib\\site-packages (from llama-index-core<0.12.0,>=0.11.23->llama-index<0.12.0,>=0.11.0->athina) (1.16.0)\n",
            "Requirement already satisfied: llama-cloud>=0.1.5 in c:\\users\\patel\\appdata\\local\\programs\\python\\python310\\lib\\site-packages (from llama-index-indices-managed-llama-cloud>=0.3.0->llama-index<0.12.0,>=0.11.0->athina) (0.1.5)\n",
            "Requirement already satisfied: beautifulsoup4<5.0.0,>=4.12.3 in c:\\users\\patel\\appdata\\local\\programs\\python\\python310\\lib\\site-packages (from llama-index-readers-file<0.4.0,>=0.3.0->llama-index<0.12.0,>=0.11.0->athina) (4.12.3)\n",
            "Requirement already satisfied: pypdf<6.0.0,>=5.1.0 in c:\\users\\patel\\appdata\\local\\programs\\python\\python310\\lib\\site-packages (from llama-index-readers-file<0.4.0,>=0.3.0->llama-index<0.12.0,>=0.11.0->athina) (5.1.0)\n",
            "Requirement already satisfied: striprtf<0.0.27,>=0.0.26 in c:\\users\\patel\\appdata\\local\\programs\\python\\python310\\lib\\site-packages (from llama-index-readers-file<0.4.0,>=0.3.0->llama-index<0.12.0,>=0.11.0->athina) (0.0.26)\n",
            "Requirement already satisfied: llama-parse>=0.5.0 in c:\\users\\patel\\appdata\\local\\programs\\python\\python310\\lib\\site-packages (from llama-index-readers-llama-parse>=0.3.0->llama-index<0.12.0,>=0.11.0->athina) (0.5.15)\n",
            "Requirement already satisfied: joblib in c:\\users\\patel\\appdata\\local\\programs\\python\\python310\\lib\\site-packages (from nltk>3.8.1->llama-index<0.12.0,>=0.11.0->athina) (1.4.0)\n",
            "Requirement already satisfied: googleapis-common-protos~=1.52 in c:\\users\\patel\\appdata\\local\\programs\\python\\python310\\lib\\site-packages (from opentelemetry-exporter-otlp-proto-grpc>=1.2.0->chromadb-client<0.6.0,>=0.5.20->athina) (1.66.0)\n",
            "Requirement already satisfied: opentelemetry-exporter-otlp-proto-common==1.28.2 in c:\\users\\patel\\appdata\\local\\programs\\python\\python310\\lib\\site-packages (from opentelemetry-exporter-otlp-proto-grpc>=1.2.0->chromadb-client<0.6.0,>=0.5.20->athina) (1.28.2)\n",
            "Requirement already satisfied: opentelemetry-proto==1.28.2 in c:\\users\\patel\\appdata\\local\\programs\\python\\python310\\lib\\site-packages (from opentelemetry-exporter-otlp-proto-grpc>=1.2.0->chromadb-client<0.6.0,>=0.5.20->athina) (1.28.2)\n",
            "Requirement already satisfied: opentelemetry-semantic-conventions==0.49b2 in c:\\users\\patel\\appdata\\local\\programs\\python\\python310\\lib\\site-packages (from opentelemetry-sdk>=1.2.0->chromadb-client<0.6.0,>=0.5.20->athina) (0.49b2)\n",
            "Requirement already satisfied: pywin32>=226 in c:\\users\\patel\\appdata\\roaming\\python\\python310\\site-packages (from portalocker<3.0.0,>=2.7.0->qdrant-client<2.0.0,>=1.9.1->athina) (306)\n",
            "Requirement already satisfied: monotonic>=1.5 in c:\\users\\patel\\appdata\\local\\programs\\python\\python310\\lib\\site-packages (from posthog>=2.4.0->chromadb-client<0.6.0,>=0.5.20->athina) (1.6)\n",
            "Requirement already satisfied: backoff>=1.10.0 in c:\\users\\patel\\appdata\\local\\programs\\python\\python310\\lib\\site-packages (from posthog>=2.4.0->chromadb-client<0.6.0,>=0.5.20->athina) (2.2.1)\n",
            "Requirement already satisfied: wcwidth in c:\\users\\patel\\appdata\\roaming\\python\\python310\\site-packages (from prompt-toolkit>=3.0.33->marvin<3.0.0,>=2.3.4->athina) (0.2.13)\n",
            "Requirement already satisfied: markdown-it-py>=2.2.0 in c:\\users\\patel\\appdata\\local\\programs\\python\\python310\\lib\\site-packages (from rich->bandit<2.0.0,>=1.7.8->athina) (3.0.0)\n",
            "Requirement already satisfied: pygments<3.0.0,>=2.13.0 in c:\\users\\patel\\appdata\\roaming\\python\\python310\\site-packages (from rich->bandit<2.0.0,>=1.7.8->athina) (2.17.2)\n",
            "Requirement already satisfied: pbr>=2.0.0 in c:\\users\\patel\\appdata\\local\\programs\\python\\python310\\lib\\site-packages (from stevedore>=1.20.0->bandit<2.0.0,>=1.7.8->athina) (6.1.1)\n",
            "Requirement already satisfied: shellingham>=1.3.0 in c:\\users\\patel\\appdata\\local\\programs\\python\\python310\\lib\\site-packages (from typer>=0.9.0->marvin<3.0.0,>=2.3.4->athina) (1.5.4)\n",
            "Requirement already satisfied: importlib-resources>=5 in c:\\users\\patel\\appdata\\local\\programs\\python\\python310\\lib\\site-packages (from cmudict->textstat<0.8.0,>=0.7.4->athina) (6.4.5)\n",
            "Requirement already satisfied: starlette<0.42.0,>=0.40.0 in c:\\users\\patel\\appdata\\local\\programs\\python\\python310\\lib\\site-packages (from fastapi->marvin<3.0.0,>=2.3.4->athina) (0.41.3)\n",
            "Requirement already satisfied: langchain-text-splitters<1.0.0,>=0.3.8 in c:\\users\\patel\\appdata\\local\\programs\\python\\python310\\lib\\site-packages (from langchain->ragas<0.3.0,>=0.2.8->athina) (0.3.8)\n",
            "Requirement already satisfied: langsmith<0.4,>=0.1.17 in c:\\users\\patel\\appdata\\local\\programs\\python\\python310\\lib\\site-packages (from langchain->ragas<0.3.0,>=0.2.8->athina) (0.1.147)\n",
            "Requirement already satisfied: httpx-sse<0.5.0,>=0.4.0 in c:\\users\\patel\\appdata\\local\\programs\\python\\python310\\lib\\site-packages (from langchain-community->ragas<0.3.0,>=0.2.8->athina) (0.4.0)\n",
            "Requirement already satisfied: soupsieve>1.2 in c:\\users\\patel\\appdata\\local\\programs\\python\\python310\\lib\\site-packages (from beautifulsoup4<5.0.0,>=4.12.3->llama-index-readers-file<0.4.0,>=0.3.0->llama-index<0.12.0,>=0.11.0->athina) (2.6)\n",
            "Requirement already satisfied: marshmallow<4.0.0,>=3.18.0 in c:\\users\\patel\\appdata\\local\\programs\\python\\python310\\lib\\site-packages (from dataclasses-json->llama-index-core<0.12.0,>=0.11.23->llama-index<0.12.0,>=0.11.0->athina) (3.23.1)\n",
            "Requirement already satisfied: hyperframe<7,>=6.0 in c:\\users\\patel\\appdata\\local\\programs\\python\\python310\\lib\\site-packages (from h2<5,>=3->httpx[http2]>=0.20.0->qdrant-client<2.0.0,>=1.9.1->athina) (6.0.1)\n",
            "Requirement already satisfied: hpack<5,>=4.0 in c:\\users\\patel\\appdata\\local\\programs\\python\\python310\\lib\\site-packages (from h2<5,>=3->httpx[http2]>=0.20.0->qdrant-client<2.0.0,>=1.9.1->athina) (4.0.0)\n",
            "Requirement already satisfied: requests-toolbelt<2.0.0,>=1.0.0 in c:\\users\\patel\\appdata\\local\\programs\\python\\python310\\lib\\site-packages (from langsmith<0.4,>=0.1.17->langchain->ragas<0.3.0,>=0.2.8->athina) (1.0.0)\n",
            "Requirement already satisfied: mdurl~=0.1 in c:\\users\\patel\\appdata\\local\\programs\\python\\python310\\lib\\site-packages (from markdown-it-py>=2.2.0->rich->bandit<2.0.0,>=1.7.8->athina) (0.1.2)\n",
            "Requirement already satisfied: greenlet!=0.4.17 in c:\\users\\patel\\appdata\\local\\programs\\python\\python310\\lib\\site-packages (from SQLAlchemy>=1.4.49->SQLAlchemy[asyncio]>=1.4.49->llama-index-core<0.12.0,>=0.11.23->llama-index<0.12.0,>=0.11.0->athina) (3.0.3)\n",
            "Requirement already satisfied: mypy-extensions>=0.3.0 in c:\\users\\patel\\appdata\\local\\programs\\python\\python310\\lib\\site-packages (from typing-inspect>=0.8.0->llama-index-core<0.12.0,>=0.11.23->llama-index<0.12.0,>=0.11.0->athina) (1.0.0)\n",
            "Requirement already satisfied: propcache>=0.2.0 in c:\\users\\patel\\appdata\\local\\programs\\python\\python310\\lib\\site-packages (from yarl<2.0,>=1.12.0->aiohttp->litellm==1.67.4.post1->athina) (0.2.0)\n",
            "Requirement already satisfied: cffi>=1.12 in c:\\users\\patel\\appdata\\local\\programs\\python\\python310\\lib\\site-packages (from cryptography->authlib<1.3.2,>=1.2.1->weaviate-client<5.0.0,>=4.9.0->athina) (1.17.1)\n",
            "Requirement already satisfied: pycparser in c:\\users\\patel\\appdata\\local\\programs\\python\\python310\\lib\\site-packages (from cffi>=1.12->cryptography->authlib<1.3.2,>=1.2.1->weaviate-client<5.0.0,>=4.9.0->athina) (2.22)\n",
            "Using cached athina-1.7.39-py3-none-any.whl (230 kB)\n",
            "Installing collected packages: litellm, athina\n",
            "  Attempting uninstall: litellm\n",
            "    Found existing installation: litellm 1.20.7\n",
            "    Uninstalling litellm-1.20.7:\n",
            "      Successfully uninstalled litellm-1.20.7\n",
            "Successfully installed athina-1.7.39 litellm-1.67.4.post1\n"
          ]
        },
        {
          "name": "stderr",
          "output_type": "stream",
          "text": [
            "WARNING: Ignoring invalid distribution -atplotlib (c:\\users\\patel\\appdata\\local\\programs\\python\\python310\\lib\\site-packages)\n",
            "WARNING: Ignoring invalid distribution -atplotlib (c:\\users\\patel\\appdata\\local\\programs\\python\\python310\\lib\\site-packages)\n",
            "\n",
            "[notice] A new release of pip is available: 24.0 -> 25.1.1\n",
            "[notice] To update, run: python.exe -m pip install --upgrade pip\n"
          ]
        }
      ],
      "source": [
        "!pip uninstall athina -y\n",
        "!pip install -U athina\n"
      ]
    },
    {
      "cell_type": "code",
      "execution_count": null,
      "metadata": {
        "id": "jNOq_2suzduz"
      },
      "outputs": [],
      "source": [
        "from athina.loaders import Loader\n",
        "dataset = Loader().load_dict(df_dict)"
      ]
    },
    {
      "cell_type": "code",
      "execution_count": null,
      "metadata": {
        "colab": {
          "base_uri": "https://localhost:8080/",
          "height": 569
        },
        "id": "mXOmVsq8zhjD",
        "outputId": "00be51d7-a0c9-467e-a130-06b5a3483cb1"
      },
      "outputs": [
        {
          "name": "stderr",
          "output_type": "stream",
          "text": [
            "/usr/local/lib/python3.10/dist-packages/ipykernel/ipkernel.py:283: DeprecationWarning: `should_run_async` will not call `transform_cell` automatically in the future. Please pass the result to `transformed_cell` argument and any exception that happen during thetransform in `preprocessing_exc_tuple` in IPython 7.17 and above.\n",
            "  and should_run_async(code)\n"
          ]
        },
        {
          "name": "stdout",
          "output_type": "stream",
          "text": [
            "evaluating with [answer_relevancy]\n"
          ]
        },
        {
          "name": "stderr",
          "output_type": "stream",
          "text": [
            "\r  0%|          | 0/1 [00:00<?, ?it/s]/usr/local/lib/python3.10/dist-packages/pydantic/main.py:1024: PydanticDeprecatedSince20: The `dict` method is deprecated; use `model_dump` instead. Deprecated in Pydantic V2.0 to be removed in V3.0. See Pydantic V2 Migration Guide at https://errors.pydantic.dev/2.6/migration/\n",
            "  warnings.warn('The `dict` method is deprecated; use `model_dump` instead.', category=PydanticDeprecatedSince20)\n",
            "/usr/local/lib/python3.10/dist-packages/pydantic/main.py:1024: PydanticDeprecatedSince20: The `dict` method is deprecated; use `model_dump` instead. Deprecated in Pydantic V2.0 to be removed in V3.0. See Pydantic V2 Migration Guide at https://errors.pydantic.dev/2.6/migration/\n",
            "  warnings.warn('The `dict` method is deprecated; use `model_dump` instead.', category=PydanticDeprecatedSince20)\n",
            "100%|██████████| 1/1 [00:01<00:00,  1.11s/it]\n"
          ]
        },
        {
          "name": "stdout",
          "output_type": "stream",
          "text": [
            "You can view your dataset at: https://app.athina.ai/develop/f9377fc3-cd03-4feb-9b52-c8e747590c5b\n"
          ]
        },
        {
          "data": {
            "application/vnd.google.colaboratory.intrinsic+json": {
              "repr_error": "Out of range float values are not JSON compliant: nan",
              "type": "dataframe"
            },
            "text/html": [
              "\n",
              "  <div id=\"df-d40e90aa-7b30-48f5-a0d7-c3ed4b273ccf\" class=\"colab-df-container\">\n",
              "    <div>\n",
              "<style scoped>\n",
              "    .dataframe tbody tr th:only-of-type {\n",
              "        vertical-align: middle;\n",
              "    }\n",
              "\n",
              "    .dataframe tbody tr th {\n",
              "        vertical-align: top;\n",
              "    }\n",
              "\n",
              "    .dataframe thead th {\n",
              "        text-align: right;\n",
              "    }\n",
              "</style>\n",
              "<table border=\"1\" class=\"dataframe\">\n",
              "  <thead>\n",
              "    <tr style=\"text-align: right;\">\n",
              "      <th></th>\n",
              "      <th>query</th>\n",
              "      <th>context</th>\n",
              "      <th>response</th>\n",
              "      <th>expected_response</th>\n",
              "      <th>display_name</th>\n",
              "      <th>failed</th>\n",
              "      <th>grade_reason</th>\n",
              "      <th>runtime</th>\n",
              "      <th>model</th>\n",
              "      <th>ragas_answer_relevancy</th>\n",
              "    </tr>\n",
              "  </thead>\n",
              "  <tbody>\n",
              "    <tr>\n",
              "      <th>0</th>\n",
              "      <td>what are points on a mortgage</td>\n",
              "      <td>[context: [\"Discount points, also called mortgage points or simply points, are a form of pre-paid interest available in the United States when arranging a mortgage. One point equals one percent of the loan amount. By charging a borrower points, a lender effectively increases the yield on the loan above the amount of the stated interest rate.  Borrowers can offer to pay a lender points as a method to reduce the interest rate on the loan, thus obtaining a lower monthly payment in exchange for ...</td>\n",
              "      <td>Points on a mortgage are a form of pre-paid interest available in the United States when arranging a mortgage. One point equals one percent of the loan amount. Borrowers can offer to pay points to reduce the interest rate on the loan, thus obtaining a lower monthly payment in exchange for this up-front payment.</td>\n",
              "      <td>None</td>\n",
              "      <td>Ragas Answer Relevancy</td>\n",
              "      <td>None</td>\n",
              "      <td>A response is deemed relevant when it directly and appropriately addresses the original query. Importantly, our assessment of answer relevance does not consider factuality but instead penalizes cases where the response lacks completeness or contains redundant details</td>\n",
              "      <td>1454</td>\n",
              "      <td>gpt-4o</td>\n",
              "      <td>0.919036</td>\n",
              "    </tr>\n",
              "  </tbody>\n",
              "</table>\n",
              "</div>\n",
              "    <div class=\"colab-df-buttons\">\n",
              "\n",
              "  <div class=\"colab-df-container\">\n",
              "    <button class=\"colab-df-convert\" onclick=\"convertToInteractive('df-d40e90aa-7b30-48f5-a0d7-c3ed4b273ccf')\"\n",
              "            title=\"Convert this dataframe to an interactive table.\"\n",
              "            style=\"display:none;\">\n",
              "\n",
              "  <svg xmlns=\"http://www.w3.org/2000/svg\" height=\"24px\" viewBox=\"0 -960 960 960\">\n",
              "    <path d=\"M120-120v-720h720v720H120Zm60-500h600v-160H180v160Zm220 220h160v-160H400v160Zm0 220h160v-160H400v160ZM180-400h160v-160H180v160Zm440 0h160v-160H620v160ZM180-180h160v-160H180v160Zm440 0h160v-160H620v160Z\"/>\n",
              "  </svg>\n",
              "    </button>\n",
              "\n",
              "  <style>\n",
              "    .colab-df-container {\n",
              "      display:flex;\n",
              "      gap: 12px;\n",
              "    }\n",
              "\n",
              "    .colab-df-convert {\n",
              "      background-color: #E8F0FE;\n",
              "      border: none;\n",
              "      border-radius: 50%;\n",
              "      cursor: pointer;\n",
              "      display: none;\n",
              "      fill: #1967D2;\n",
              "      height: 32px;\n",
              "      padding: 0 0 0 0;\n",
              "      width: 32px;\n",
              "    }\n",
              "\n",
              "    .colab-df-convert:hover {\n",
              "      background-color: #E2EBFA;\n",
              "      box-shadow: 0px 1px 2px rgba(60, 64, 67, 0.3), 0px 1px 3px 1px rgba(60, 64, 67, 0.15);\n",
              "      fill: #174EA6;\n",
              "    }\n",
              "\n",
              "    .colab-df-buttons div {\n",
              "      margin-bottom: 4px;\n",
              "    }\n",
              "\n",
              "    [theme=dark] .colab-df-convert {\n",
              "      background-color: #3B4455;\n",
              "      fill: #D2E3FC;\n",
              "    }\n",
              "\n",
              "    [theme=dark] .colab-df-convert:hover {\n",
              "      background-color: #434B5C;\n",
              "      box-shadow: 0px 1px 3px 1px rgba(0, 0, 0, 0.15);\n",
              "      filter: drop-shadow(0px 1px 2px rgba(0, 0, 0, 0.3));\n",
              "      fill: #FFFFFF;\n",
              "    }\n",
              "  </style>\n",
              "\n",
              "    <script>\n",
              "      const buttonEl =\n",
              "        document.querySelector('#df-d40e90aa-7b30-48f5-a0d7-c3ed4b273ccf button.colab-df-convert');\n",
              "      buttonEl.style.display =\n",
              "        google.colab.kernel.accessAllowed ? 'block' : 'none';\n",
              "\n",
              "      async function convertToInteractive(key) {\n",
              "        const element = document.querySelector('#df-d40e90aa-7b30-48f5-a0d7-c3ed4b273ccf');\n",
              "        const dataTable =\n",
              "          await google.colab.kernel.invokeFunction('convertToInteractive',\n",
              "                                                    [key], {});\n",
              "        if (!dataTable) return;\n",
              "\n",
              "        const docLinkHtml = 'Like what you see? Visit the ' +\n",
              "          '<a target=\"_blank\" href=https://colab.research.google.com/notebooks/data_table.ipynb>data table notebook</a>'\n",
              "          + ' to learn more about interactive tables.';\n",
              "        element.innerHTML = '';\n",
              "        dataTable['output_type'] = 'display_data';\n",
              "        await google.colab.output.renderOutput(dataTable, element);\n",
              "        const docLink = document.createElement('div');\n",
              "        docLink.innerHTML = docLinkHtml;\n",
              "        element.appendChild(docLink);\n",
              "      }\n",
              "    </script>\n",
              "  </div>\n",
              "\n",
              "\n",
              "    </div>\n",
              "  </div>\n"
            ],
            "text/plain": [
              "                           query  \\\n",
              "0  what are points on a mortgage   \n",
              "\n",
              "                                                                                                                                                                                                                                                                                                                                                                                                                                                                                                               context  \\\n",
              "0  [context: [\"Discount points, also called mortgage points or simply points, are a form of pre-paid interest available in the United States when arranging a mortgage. One point equals one percent of the loan amount. By charging a borrower points, a lender effectively increases the yield on the loan above the amount of the stated interest rate.  Borrowers can offer to pay a lender points as a method to reduce the interest rate on the loan, thus obtaining a lower monthly payment in exchange for ...   \n",
              "\n",
              "                                                                                                                                                                                                                                                                                                                   response  \\\n",
              "0  Points on a mortgage are a form of pre-paid interest available in the United States when arranging a mortgage. One point equals one percent of the loan amount. Borrowers can offer to pay points to reduce the interest rate on the loan, thus obtaining a lower monthly payment in exchange for this up-front payment.   \n",
              "\n",
              "  expected_response            display_name failed  \\\n",
              "0              None  Ragas Answer Relevancy   None   \n",
              "\n",
              "                                                                                                                                                                                                                                                                  grade_reason  \\\n",
              "0  A response is deemed relevant when it directly and appropriately addresses the original query. Importantly, our assessment of answer relevance does not consider factuality but instead penalizes cases where the response lacks completeness or contains redundant details   \n",
              "\n",
              "   runtime   model  ragas_answer_relevancy  \n",
              "0     1454  gpt-4o                0.919036  "
            ]
          },
          "execution_count": 34,
          "metadata": {},
          "output_type": "execute_result"
        }
      ],
      "source": [
        "# evaluate\n",
        "from athina.evals import RagasAnswerRelevancy\n",
        "RagasAnswerRelevancy(model=\"gpt-4o\").run_batch(data=dataset).to_df()"
      ]
    }
  ],
  "metadata": {
    "colab": {
      "provenance": []
    },
    "kernelspec": {
      "display_name": "Python 3",
      "name": "python3"
    },
    "language_info": {
      "codemirror_mode": {
        "name": "ipython",
        "version": 3
      },
      "file_extension": ".py",
      "mimetype": "text/x-python",
      "name": "python",
      "nbconvert_exporter": "python",
      "pygments_lexer": "ipython3",
      "version": "3.10.11"
    }
  },
  "nbformat": 4,
  "nbformat_minor": 0
}
