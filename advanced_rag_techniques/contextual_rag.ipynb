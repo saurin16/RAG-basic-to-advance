{
  "cells": [
    {
      "cell_type": "markdown",
      "metadata": {
        "id": "uSh0jjVbzHCz"
      },
      "source": [
        "# **Contextual RAG**\n",
        "\n",
        "Contextual Retrieval-Augmented Generation (RAG) is an advanced RAG technique that improves response relevance and efficiency by incorporating contextual compression during the retrieval process. Traditional RAG retrieves and sends full documents to the generation model, which may include irrelevant information, leading to higher costs and less accurate responses.\n",
        "\n",
        "In Contextual RAG, the retrieved documents are processed through a Document Compressor before being passed to the language model. This compressor extracts and retains only the most relevant information for the query, or even discards entire irrelevant documents. This approach reduces the noise in the retrieved context, resulting in more precise, concise, and cost-effective responses from the generation model.\n",
        "\n",
        "Reference: [Contextual RAG](https://python.langchain.com/docs/how_to/contextual_compression/)"
      ]
    },
    {
      "cell_type": "markdown",
      "metadata": {
        "id": "IDIEkHsh1Eka"
      },
      "source": [
        "## **Initial Setup**"
      ]
    },
    {
      "cell_type": "code",
      "execution_count": 1,
      "metadata": {
        "id": "MrZhFJX_yBzX"
      },
      "outputs": [
        {
          "name": "stderr",
          "output_type": "stream",
          "text": [
            "WARNING: Ignoring invalid distribution -atplotlib (c:\\users\\patel\\appdata\\local\\programs\\python\\python310\\lib\\site-packages)\n",
            "WARNING: Ignoring invalid distribution -atplotlib (c:\\users\\patel\\appdata\\local\\programs\\python\\python310\\lib\\site-packages)\n",
            "\n",
            "[notice] A new release of pip is available: 24.0 -> 25.1.1\n",
            "[notice] To update, run: python.exe -m pip install --upgrade pip\n"
          ]
        }
      ],
      "source": [
        "!pip install --q athina chromadb"
      ]
    },
    {
      "cell_type": "code",
      "execution_count": 3,
      "metadata": {
        "id": "tg6l6UKW06dY"
      },
      "outputs": [],
      "source": [
        "import os\n",
        "from dotenv import load_dotenv\n",
        "\n",
        "# Load environment variables from .env file\n",
        "load_dotenv()\n",
        "\n",
        "os.environ[\"OPENAI_API_KEY\"] = os.getenv('OPENAI_API_KEY')\n",
        "os.environ['ATHINA_API_KEY'] = os.getenv('ATHINA_API_KEY')\n",
        "\n",
        "# Optional: Verify keys are loaded\n",
        "if not os.environ[\"OPENAI_API_KEY\"] or not os.environ['ATHINA_API_KEY']:\n",
        "    print(\"Warning: API keys not loaded from .env file\")"
      ]
    },
    {
      "cell_type": "markdown",
      "metadata": {
        "id": "AO7zLKC_1HSm"
      },
      "source": [
        "## **Indexing**"
      ]
    },
    {
      "cell_type": "code",
      "execution_count": 4,
      "metadata": {
        "id": "SS6M8Fvl1HH0"
      },
      "outputs": [],
      "source": [
        "# load embedding model\n",
        "from langchain_openai import OpenAIEmbeddings\n",
        "embeddings = OpenAIEmbeddings()"
      ]
    },
    {
      "cell_type": "code",
      "execution_count": 14,
      "metadata": {
        "id": "iR30q3uZ1YjU"
      },
      "outputs": [],
      "source": [
        "from langchain_community.document_loaders import CSVLoader\n",
        "\n",
        "loader = CSVLoader(file_path=\"./context.csv\", encoding=\"utf-8\")\n",
        "docs = loader.load()\n"
      ]
    },
    {
      "cell_type": "code",
      "execution_count": 16,
      "metadata": {},
      "outputs": [],
      "source": [
        "# load data\n",
        "from langchain.document_loaders import CSVLoader\n",
        "loader = CSVLoader(file_path=\"./context.csv\", encoding=\"utf-8\")\n",
        "documents = loader.load()"
      ]
    },
    {
      "cell_type": "code",
      "execution_count": 20,
      "metadata": {
        "id": "WDEHMq-I1dEE"
      },
      "outputs": [],
      "source": [
        "# split documents\n",
        "from langchain.text_splitter import RecursiveCharacterTextSplitter\n",
        "text_splitter = RecursiveCharacterTextSplitter(chunk_size=500, chunk_overlap=0)\n",
        "documents = text_splitter.split_documents(documents)"
      ]
    },
    {
      "cell_type": "code",
      "execution_count": 26,
      "metadata": {},
      "outputs": [
        {
          "name": "stdout",
          "output_type": "stream",
          "text": [
            "Requirement already satisfied: faiss-cpu in c:\\users\\patel\\appdata\\local\\programs\\python\\python310\\lib\\site-packages (1.9.0.post1)\n",
            "Requirement already satisfied: numpy<3.0,>=1.25.0 in c:\\users\\patel\\appdata\\local\\programs\\python\\python310\\lib\\site-packages (from faiss-cpu) (1.26.0)\n",
            "Requirement already satisfied: packaging in c:\\users\\patel\\appdata\\roaming\\python\\python310\\site-packages (from faiss-cpu) (24.0)\n"
          ]
        },
        {
          "name": "stderr",
          "output_type": "stream",
          "text": [
            "WARNING: Ignoring invalid distribution -atplotlib (c:\\users\\patel\\appdata\\local\\programs\\python\\python310\\lib\\site-packages)\n",
            "WARNING: Ignoring invalid distribution -atplotlib (c:\\users\\patel\\appdata\\local\\programs\\python\\python310\\lib\\site-packages)\n",
            "\n",
            "[notice] A new release of pip is available: 24.0 -> 25.1.1\n",
            "[notice] To update, run: python.exe -m pip install --upgrade pip\n"
          ]
        }
      ],
      "source": [
        "!pip install faiss-cpu\n"
      ]
    },
    {
      "cell_type": "code",
      "execution_count": 27,
      "metadata": {},
      "outputs": [],
      "source": [
        "from langchain_community.vectorstores import FAISS\n"
      ]
    },
    {
      "cell_type": "code",
      "execution_count": 28,
      "metadata": {
        "id": "cCQ6DKuf1fkf"
      },
      "outputs": [],
      "source": [
        "vectorstore = FAISS.from_documents(\n",
        "    documents=documents,\n",
        "    embedding=embeddings\n",
        ")\n"
      ]
    },
    {
      "cell_type": "markdown",
      "metadata": {
        "id": "jC31p6zQ1gRZ"
      },
      "source": [
        "## **Retriever**"
      ]
    },
    {
      "cell_type": "code",
      "execution_count": 29,
      "metadata": {
        "id": "fu0TnRi41iUD"
      },
      "outputs": [],
      "source": [
        "# create retriever\n",
        "retriever = vectorstore.as_retriever()"
      ]
    },
    {
      "cell_type": "markdown",
      "metadata": {
        "id": "pbNId_f-1u9O"
      },
      "source": [
        "## **Contextual Retriever**"
      ]
    },
    {
      "cell_type": "code",
      "execution_count": 30,
      "metadata": {
        "id": "SZfW0rkT2G4x"
      },
      "outputs": [],
      "source": [
        "# create llm\n",
        "from langchain_openai import ChatOpenAI\n",
        "llm = ChatOpenAI()"
      ]
    },
    {
      "cell_type": "code",
      "execution_count": 31,
      "metadata": {
        "id": "SXpNy93c3F_Y"
      },
      "outputs": [],
      "source": [
        "# create compression retriever\n",
        "from langchain.retrievers import ContextualCompressionRetriever\n",
        "from langchain.retrievers.document_compressors import LLMChainExtractor\n",
        "\n",
        "compressor = LLMChainExtractor.from_llm(llm)\n",
        "compression_retriever = ContextualCompressionRetriever(\n",
        "    base_compressor=compressor, base_retriever=retriever\n",
        ")"
      ]
    },
    {
      "cell_type": "code",
      "execution_count": 32,
      "metadata": {
        "colab": {
          "base_uri": "https://localhost:8080/"
        },
        "id": "i3r6ULBq1-76",
        "outputId": "c9b64510-3d33-4b19-b3b4-983859a9fefb"
      },
      "outputs": [
        {
          "data": {
            "text/plain": [
              "[Document(metadata={'source': './context.csv', 'row': 1}, page_content='Discount points, also called mortgage points or simply points, are a form of pre-paid interest available in the United States when arranging a mortgage. One point equals one percent of the loan amount. By charging a borrower points, a lender effectively increases the yield on the loan above the amount of the stated interest rate. Borrowers can offer to pay a lender points as a method to reduce the interest rate on the loan, thus obtaining a lower monthly payment in exchange for this'),\n",
              " Document(metadata={'source': './context.csv', 'row': 1}, page_content=\"points is the concept of the 'no closing cost loan', in which the consumer accepts a higher interest rate in return for the lender paying the loan's closing costs up front. In some cases a purchaser can negotiate with the seller to get them to pay seller's points which can be used to pay mortgage points.\"),\n",
              " Document(metadata={'source': './context.csv', 'row': 1}, page_content='rate.Points may also be purchased to reduce the monthly payment for the purpose of qualifying for a loan. Discount points may be different from origination fee, mortgage arrangement fee or broker fee. Discount points are always used to buy down the'),\n",
              " Document(metadata={'source': './context.csv', 'row': 1}, page_content='points on a mortgage')]"
            ]
          },
          "execution_count": 32,
          "metadata": {},
          "output_type": "execute_result"
        }
      ],
      "source": [
        "# checking compressed doc\n",
        "compressed_docs = compression_retriever.invoke(\"what are points on a mortgage\")\n",
        "compressed_docs"
      ]
    },
    {
      "cell_type": "markdown",
      "metadata": {
        "id": "znrnrY073o82"
      },
      "source": [
        "## **RAG Chain**"
      ]
    },
    {
      "cell_type": "code",
      "execution_count": 33,
      "metadata": {
        "id": "DC_S8t0f3pV5"
      },
      "outputs": [],
      "source": [
        "# create document chain\n",
        "from langchain.prompts import ChatPromptTemplate\n",
        "from langchain.schema.runnable import RunnablePassthrough\n",
        "from langchain.schema.output_parser import StrOutputParser\n",
        "\n",
        "template = \"\"\"\"\n",
        "You are a helpful assistant that answers questions based on the following context.\n",
        "If you don't find the answer in the context, just say that you don't know.\n",
        "Context: {context}\n",
        "\n",
        "Question: {input}\n",
        "\n",
        "Answer:\n",
        "\n",
        "\"\"\"\n",
        "prompt = ChatPromptTemplate.from_template(template)\n",
        "\n",
        "# Setup RAG pipeline\n",
        "rag_chain = (\n",
        "    {\"context\": compression_retriever,  \"input\": RunnablePassthrough()}\n",
        "    | prompt\n",
        "    | llm\n",
        "    | StrOutputParser()\n",
        ")"
      ]
    },
    {
      "cell_type": "code",
      "execution_count": 34,
      "metadata": {
        "colab": {
          "base_uri": "https://localhost:8080/",
          "height": 87
        },
        "id": "RnXKAPED3teL",
        "outputId": "478e08df-62ef-4ef1-8edb-2b1c7840cf8d"
      },
      "outputs": [
        {
          "data": {
            "text/plain": [
              "\"Points on a mortgage are a form of pre-paid interest that can be paid by the borrower to reduce the interest rate on the loan, resulting in a lower monthly payment. Points are typically equal to one percent of the loan amount. Additionally, points can also refer to the concept of the 'no closing cost loan', where the consumer accepts a higher interest rate in exchange for the lender paying the closing costs upfront.\""
            ]
          },
          "execution_count": 34,
          "metadata": {},
          "output_type": "execute_result"
        }
      ],
      "source": [
        "# response\n",
        "response = rag_chain.invoke(\"what are points on a mortgage\")\n",
        "response"
      ]
    },
    {
      "cell_type": "markdown",
      "metadata": {
        "id": "EOz3Wp0Q31ln"
      },
      "source": [
        "## **Preparing Data for Evaluation**"
      ]
    },
    {
      "cell_type": "code",
      "execution_count": 35,
      "metadata": {
        "id": "pR8aRn_032H8"
      },
      "outputs": [
        {
          "name": "stderr",
          "output_type": "stream",
          "text": [
            "C:\\Users\\patel\\AppData\\Local\\Temp\\ipykernel_18128\\255348039.py:9: LangChainDeprecationWarning: The method `BaseRetriever.get_relevant_documents` was deprecated in langchain-core 0.1.46 and will be removed in 1.0. Use :meth:`~invoke` instead.\n",
            "  contexts.append([docs.page_content for docs in compression_retriever.get_relevant_documents(query)])\n"
          ]
        }
      ],
      "source": [
        "# create dataset\n",
        "questions = [\"what are points on a mortgage\"]\n",
        "response = []\n",
        "contexts = []\n",
        "\n",
        "# Inference\n",
        "for query in questions:\n",
        "  response.append(rag_chain.invoke(query))\n",
        "  contexts.append([docs.page_content for docs in compression_retriever.get_relevant_documents(query)])\n",
        "\n",
        "# To dict\n",
        "data = {\n",
        "    \"query\": questions,\n",
        "    \"response\": response,\n",
        "    \"context\": contexts,\n",
        "}"
      ]
    },
    {
      "cell_type": "code",
      "execution_count": 36,
      "metadata": {
        "id": "NQ_kFqDa4fN2"
      },
      "outputs": [],
      "source": [
        "# create dataset\n",
        "from datasets import Dataset\n",
        "dataset = Dataset.from_dict(data)"
      ]
    },
    {
      "cell_type": "code",
      "execution_count": 37,
      "metadata": {
        "id": "YvdWjllI4l5y"
      },
      "outputs": [],
      "source": [
        "# create dataframe\n",
        "import pandas as pd\n",
        "df = pd.DataFrame(dataset)"
      ]
    },
    {
      "cell_type": "code",
      "execution_count": 38,
      "metadata": {
        "colab": {
          "base_uri": "https://localhost:8080/",
          "height": 89
        },
        "id": "fK4P2QEG4oIu",
        "outputId": "26669cc6-1f72-4aef-d7a9-2a563e4eaa2d"
      },
      "outputs": [
        {
          "data": {
            "text/html": [
              "<div>\n",
              "<style scoped>\n",
              "    .dataframe tbody tr th:only-of-type {\n",
              "        vertical-align: middle;\n",
              "    }\n",
              "\n",
              "    .dataframe tbody tr th {\n",
              "        vertical-align: top;\n",
              "    }\n",
              "\n",
              "    .dataframe thead th {\n",
              "        text-align: right;\n",
              "    }\n",
              "</style>\n",
              "<table border=\"1\" class=\"dataframe\">\n",
              "  <thead>\n",
              "    <tr style=\"text-align: right;\">\n",
              "      <th></th>\n",
              "      <th>query</th>\n",
              "      <th>response</th>\n",
              "      <th>context</th>\n",
              "    </tr>\n",
              "  </thead>\n",
              "  <tbody>\n",
              "    <tr>\n",
              "      <th>0</th>\n",
              "      <td>what are points on a mortgage</td>\n",
              "      <td>Points on a mortgage are a form of pre-paid in...</td>\n",
              "      <td>[Discount points, also called mortgage points ...</td>\n",
              "    </tr>\n",
              "  </tbody>\n",
              "</table>\n",
              "</div>"
            ],
            "text/plain": [
              "                           query  \\\n",
              "0  what are points on a mortgage   \n",
              "\n",
              "                                            response  \\\n",
              "0  Points on a mortgage are a form of pre-paid in...   \n",
              "\n",
              "                                             context  \n",
              "0  [Discount points, also called mortgage points ...  "
            ]
          },
          "execution_count": 38,
          "metadata": {},
          "output_type": "execute_result"
        }
      ],
      "source": [
        "df"
      ]
    },
    {
      "cell_type": "code",
      "execution_count": 39,
      "metadata": {
        "id": "CjNrTs7l4qg_"
      },
      "outputs": [],
      "source": [
        "# Convert to dictionary\n",
        "df_dict = df.to_dict(orient='records')\n",
        "\n",
        "# Convert context to list\n",
        "for record in df_dict:\n",
        "    if not isinstance(record.get('context'), list):\n",
        "        if record.get('context') is None:\n",
        "            record['context'] = []\n",
        "        else:\n",
        "            record['context'] = [record['context']]"
      ]
    },
    {
      "cell_type": "markdown",
      "metadata": {
        "id": "JZFlEciE4yFO"
      },
      "source": [
        "## **Evaluation in Athina AI**\n",
        "\n",
        "We will use **Context Relevancy** eval here. It Measures the relevancy of the retrieved context, calculated based on both the query and contexts. To learn more about this. Please refer to our [documentation](https://docs.athina.ai/api-reference/evals/preset-evals/overview) for further details"
      ]
    },
    {
      "cell_type": "code",
      "execution_count": 41,
      "metadata": {},
      "outputs": [],
      "source": [
        "import os\n",
        "\n",
        "# Set env variables directly\n",
        "os.environ[\"OPENAI_API_KEY\"] = \"your-openai-key\"\n",
        "os.environ[\"ATHINA_API_KEY\"] = \"your-athina-key\""
      ]
    },
    {
      "cell_type": "code",
      "execution_count": 40,
      "metadata": {
        "id": "vCwCaKjl4ywl"
      },
      "outputs": [
        {
          "name": "stderr",
          "output_type": "stream",
          "text": [
            "c:\\Users\\patel\\AppData\\Local\\Programs\\Python\\Python310\\lib\\site-packages\\pydantic\\_internal\\_config.py:341: UserWarning: Valid config keys have changed in V2:\n",
            "* 'fields' has been removed\n",
            "  warnings.warn(message, UserWarning)\n"
          ]
        },
        {
          "ename": "NameError",
          "evalue": "name 'Sandbox' is not defined",
          "output_type": "error",
          "traceback": [
            "\u001b[1;31m---------------------------------------------------------------------------\u001b[0m",
            "\u001b[1;31mNameError\u001b[0m                                 Traceback (most recent call last)",
            "Cell \u001b[1;32mIn[40], line 2\u001b[0m\n\u001b[0;32m      1\u001b[0m \u001b[38;5;66;03m# set api keys for Athina evals\u001b[39;00m\n\u001b[1;32m----> 2\u001b[0m \u001b[38;5;28;01mfrom\u001b[39;00m \u001b[38;5;21;01mathina\u001b[39;00m\u001b[38;5;21;01m.\u001b[39;00m\u001b[38;5;21;01mkeys\u001b[39;00m \u001b[38;5;28;01mimport\u001b[39;00m AthinaApiKey, OpenAiApiKey\n\u001b[0;32m      3\u001b[0m OpenAiApiKey\u001b[38;5;241m.\u001b[39mset_key(os\u001b[38;5;241m.\u001b[39mgetenv(\u001b[38;5;124m'\u001b[39m\u001b[38;5;124mOPENAI_API_KEY\u001b[39m\u001b[38;5;124m'\u001b[39m))\n\u001b[0;32m      4\u001b[0m AthinaApiKey\u001b[38;5;241m.\u001b[39mset_key(os\u001b[38;5;241m.\u001b[39mgetenv(\u001b[38;5;124m'\u001b[39m\u001b[38;5;124mATHINA_API_KEY\u001b[39m\u001b[38;5;124m'\u001b[39m))\n",
            "File \u001b[1;32mc:\\Users\\patel\\AppData\\Local\\Programs\\Python\\Python310\\lib\\site-packages\\athina\\__init__.py:2\u001b[0m\n\u001b[0;32m      1\u001b[0m \u001b[38;5;66;03m# __init__.py\u001b[39;00m\n\u001b[1;32m----> 2\u001b[0m \u001b[38;5;28;01mfrom\u001b[39;00m \u001b[38;5;21;01m.\u001b[39;00m\u001b[38;5;21;01mguard\u001b[39;00m\u001b[38;5;21;01m.\u001b[39;00m\u001b[38;5;21;01mguard\u001b[39;00m \u001b[38;5;28;01mimport\u001b[39;00m guard\n\u001b[0;32m      3\u001b[0m \u001b[38;5;28;01mfrom\u001b[39;00m \u001b[38;5;21;01m.\u001b[39;00m\u001b[38;5;21;01mguard\u001b[39;00m\u001b[38;5;21;01m.\u001b[39;00m\u001b[38;5;21;01mexception\u001b[39;00m \u001b[38;5;28;01mimport\u001b[39;00m AthinaGuardException\n\u001b[0;32m      4\u001b[0m \u001b[38;5;28;01mfrom\u001b[39;00m \u001b[38;5;21;01m.\u001b[39;00m \u001b[38;5;28;01mimport\u001b[39;00m evals\n",
            "File \u001b[1;32mc:\\Users\\patel\\AppData\\Local\\Programs\\Python\\Python310\\lib\\site-packages\\athina\\guard\\guard.py:3\u001b[0m\n\u001b[0;32m      1\u001b[0m \u001b[38;5;28;01mimport\u001b[39;00m \u001b[38;5;21;01mtime\u001b[39;00m\n\u001b[0;32m      2\u001b[0m \u001b[38;5;28;01mfrom\u001b[39;00m \u001b[38;5;21;01mtyping\u001b[39;00m \u001b[38;5;28;01mimport\u001b[39;00m List\n\u001b[1;32m----> 3\u001b[0m \u001b[38;5;28;01mfrom\u001b[39;00m \u001b[38;5;21;01m.\u001b[39;00m\u001b[38;5;21;01m.\u001b[39;00m\u001b[38;5;21;01mevals\u001b[39;00m \u001b[38;5;28;01mimport\u001b[39;00m BaseEvaluator\n\u001b[0;32m      4\u001b[0m \u001b[38;5;28;01mfrom\u001b[39;00m \u001b[38;5;21;01m.\u001b[39;00m\u001b[38;5;21;01mexception\u001b[39;00m \u001b[38;5;28;01mimport\u001b[39;00m AthinaGuardException\n\u001b[0;32m      5\u001b[0m \u001b[38;5;28;01mfrom\u001b[39;00m \u001b[38;5;21;01mconcurrent\u001b[39;00m\u001b[38;5;21;01m.\u001b[39;00m\u001b[38;5;21;01mfutures\u001b[39;00m \u001b[38;5;28;01mimport\u001b[39;00m ThreadPoolExecutor, as_completed\n",
            "File \u001b[1;32mc:\\Users\\patel\\AppData\\Local\\Programs\\Python\\Python310\\lib\\site-packages\\athina\\evals\\__init__.py:26\u001b[0m\n\u001b[0;32m     24\u001b[0m \u001b[38;5;28;01mfrom\u001b[39;00m \u001b[38;5;21;01mathina\u001b[39;00m\u001b[38;5;21;01m.\u001b[39;00m\u001b[38;5;21;01mevals\u001b[39;00m\u001b[38;5;21;01m.\u001b[39;00m\u001b[38;5;21;01mragas\u001b[39;00m\u001b[38;5;21;01m.\u001b[39;00m\u001b[38;5;21;01mcoherence\u001b[39;00m\u001b[38;5;21;01m.\u001b[39;00m\u001b[38;5;21;01mevaluator\u001b[39;00m \u001b[38;5;28;01mimport\u001b[39;00m RagasCoherence\n\u001b[0;32m     25\u001b[0m \u001b[38;5;28;01mfrom\u001b[39;00m \u001b[38;5;21;01mathina\u001b[39;00m\u001b[38;5;21;01m.\u001b[39;00m\u001b[38;5;21;01mevals\u001b[39;00m\u001b[38;5;21;01m.\u001b[39;00m\u001b[38;5;21;01mragas\u001b[39;00m\u001b[38;5;21;01m.\u001b[39;00m\u001b[38;5;21;01mconciseness\u001b[39;00m\u001b[38;5;21;01m.\u001b[39;00m\u001b[38;5;21;01mevaluator\u001b[39;00m \u001b[38;5;28;01mimport\u001b[39;00m RagasConciseness\n\u001b[1;32m---> 26\u001b[0m \u001b[38;5;28;01mfrom\u001b[39;00m \u001b[38;5;21;01mathina\u001b[39;00m\u001b[38;5;21;01m.\u001b[39;00m\u001b[38;5;21;01mevals\u001b[39;00m\u001b[38;5;21;01m.\u001b[39;00m\u001b[38;5;21;01mfunction\u001b[39;00m\u001b[38;5;21;01m.\u001b[39;00m\u001b[38;5;21;01mfunction_evaluator\u001b[39;00m \u001b[38;5;28;01mimport\u001b[39;00m FunctionEvaluator\n\u001b[0;32m     27\u001b[0m \u001b[38;5;28;01mfrom\u001b[39;00m \u001b[38;5;21;01mathina\u001b[39;00m\u001b[38;5;21;01m.\u001b[39;00m\u001b[38;5;21;01mevals\u001b[39;00m\u001b[38;5;21;01m.\u001b[39;00m\u001b[38;5;21;01mllm\u001b[39;00m\u001b[38;5;21;01m.\u001b[39;00m\u001b[38;5;21;01mllm_evaluator\u001b[39;00m \u001b[38;5;28;01mimport\u001b[39;00m LlmEvaluator\n\u001b[0;32m     28\u001b[0m \u001b[38;5;28;01mfrom\u001b[39;00m \u001b[38;5;21;01mathina\u001b[39;00m\u001b[38;5;21;01m.\u001b[39;00m\u001b[38;5;21;01mevals\u001b[39;00m\u001b[38;5;21;01m.\u001b[39;00m\u001b[38;5;21;01mgrounded\u001b[39;00m\u001b[38;5;21;01m.\u001b[39;00m\u001b[38;5;21;01mgrounded_evaluator\u001b[39;00m \u001b[38;5;28;01mimport\u001b[39;00m GroundedEvaluator\n",
            "File \u001b[1;32mc:\\Users\\patel\\AppData\\Local\\Programs\\Python\\Python310\\lib\\site-packages\\athina\\evals\\function\\function_evaluator.py:9\u001b[0m\n\u001b[0;32m      7\u001b[0m \u001b[38;5;28;01mfrom\u001b[39;00m \u001b[38;5;21;01mathina\u001b[39;00m\u001b[38;5;21;01m.\u001b[39;00m\u001b[38;5;21;01minterfaces\u001b[39;00m\u001b[38;5;21;01m.\u001b[39;00m\u001b[38;5;21;01mathina\u001b[39;00m \u001b[38;5;28;01mimport\u001b[39;00m AthinaExperiment\n\u001b[0;32m      8\u001b[0m \u001b[38;5;28;01mfrom\u001b[39;00m \u001b[38;5;21;01m.\u001b[39;00m\u001b[38;5;21;01m.\u001b[39;00m\u001b[38;5;21;01mbase_evaluator\u001b[39;00m \u001b[38;5;28;01mimport\u001b[39;00m BaseEvaluator\n\u001b[1;32m----> 9\u001b[0m \u001b[38;5;28;01mfrom\u001b[39;00m \u001b[38;5;21;01m.\u001b[39;00m\u001b[38;5;21;01mfunctions\u001b[39;00m \u001b[38;5;28;01mimport\u001b[39;00m operations\n\u001b[0;32m     12\u001b[0m \u001b[38;5;28;01mclass\u001b[39;00m \u001b[38;5;21;01mFunctionEvaluator\u001b[39;00m(BaseEvaluator):\n\u001b[0;32m     13\u001b[0m     _display_name: \u001b[38;5;28mstr\u001b[39m\n",
            "File \u001b[1;32mc:\\Users\\patel\\AppData\\Local\\Programs\\Python\\Python310\\lib\\site-packages\\athina\\evals\\function\\functions.py:13\u001b[0m\n\u001b[0;32m     11\u001b[0m \u001b[38;5;28;01mfrom\u001b[39;00m \u001b[38;5;21;01mathina\u001b[39;00m\u001b[38;5;21;01m.\u001b[39;00m\u001b[38;5;21;01mkeys\u001b[39;00m\u001b[38;5;21;01m.\u001b[39;00m\u001b[38;5;21;01mopenai_api_key\u001b[39;00m \u001b[38;5;28;01mimport\u001b[39;00m OpenAiApiKey\n\u001b[0;32m     12\u001b[0m \u001b[38;5;28;01mfrom\u001b[39;00m \u001b[38;5;21;01mathina\u001b[39;00m\u001b[38;5;21;01m.\u001b[39;00m\u001b[38;5;21;01mllms\u001b[39;00m\u001b[38;5;21;01m.\u001b[39;00m\u001b[38;5;21;01mopenai_service\u001b[39;00m \u001b[38;5;28;01mimport\u001b[39;00m OpenAiService\n\u001b[1;32m---> 13\u001b[0m \u001b[38;5;28;01mfrom\u001b[39;00m \u001b[38;5;21;01mathina\u001b[39;00m\u001b[38;5;21;01m.\u001b[39;00m\u001b[38;5;21;01msteps\u001b[39;00m\u001b[38;5;21;01m.\u001b[39;00m\u001b[38;5;21;01mcode_execution\u001b[39;00m \u001b[38;5;28;01mimport\u001b[39;00m CodeExecution\n\u001b[0;32m     14\u001b[0m \u001b[38;5;28;01mimport\u001b[39;00m \u001b[38;5;21;01msubprocess\u001b[39;00m\n\u001b[0;32m     15\u001b[0m \u001b[38;5;28;01mimport\u001b[39;00m \u001b[38;5;21;01mtempfile\u001b[39;00m\n",
            "File \u001b[1;32mc:\\Users\\patel\\AppData\\Local\\Programs\\Python\\Python310\\lib\\site-packages\\athina\\steps\\__init__.py:2\u001b[0m\n\u001b[0;32m      1\u001b[0m \u001b[38;5;28;01mfrom\u001b[39;00m \u001b[38;5;21;01mathina\u001b[39;00m\u001b[38;5;21;01m.\u001b[39;00m\u001b[38;5;21;01msteps\u001b[39;00m\u001b[38;5;21;01m.\u001b[39;00m\u001b[38;5;21;01mbase\u001b[39;00m \u001b[38;5;28;01mimport\u001b[39;00m Step, Fn, Debug\n\u001b[1;32m----> 2\u001b[0m \u001b[38;5;28;01mfrom\u001b[39;00m \u001b[38;5;21;01mathina\u001b[39;00m\u001b[38;5;21;01m.\u001b[39;00m\u001b[38;5;21;01msteps\u001b[39;00m\u001b[38;5;21;01m.\u001b[39;00m\u001b[38;5;21;01mconditional\u001b[39;00m \u001b[38;5;28;01mimport\u001b[39;00m ConditionalStep\n\u001b[0;32m      3\u001b[0m \u001b[38;5;28;01mfrom\u001b[39;00m \u001b[38;5;21;01mathina\u001b[39;00m\u001b[38;5;21;01m.\u001b[39;00m\u001b[38;5;21;01msteps\u001b[39;00m\u001b[38;5;21;01m.\u001b[39;00m\u001b[38;5;21;01mchain\u001b[39;00m \u001b[38;5;28;01mimport\u001b[39;00m Chain\n\u001b[0;32m      4\u001b[0m \u001b[38;5;28;01mfrom\u001b[39;00m \u001b[38;5;21;01mathina\u001b[39;00m\u001b[38;5;21;01m.\u001b[39;00m\u001b[38;5;21;01msteps\u001b[39;00m\u001b[38;5;21;01m.\u001b[39;00m\u001b[38;5;21;01miterator\u001b[39;00m \u001b[38;5;28;01mimport\u001b[39;00m Map\n",
            "File \u001b[1;32mc:\\Users\\patel\\AppData\\Local\\Programs\\Python\\Python310\\lib\\site-packages\\athina\\steps\\conditional.py:4\u001b[0m\n\u001b[0;32m      2\u001b[0m \u001b[38;5;28;01mfrom\u001b[39;00m \u001b[38;5;21;01mathina\u001b[39;00m\u001b[38;5;21;01m.\u001b[39;00m\u001b[38;5;21;01msteps\u001b[39;00m\u001b[38;5;21;01m.\u001b[39;00m\u001b[38;5;21;01mbase\u001b[39;00m \u001b[38;5;28;01mimport\u001b[39;00m Step\n\u001b[0;32m      3\u001b[0m \u001b[38;5;28;01mfrom\u001b[39;00m \u001b[38;5;21;01mpydantic\u001b[39;00m \u001b[38;5;28;01mimport\u001b[39;00m ConfigDict\n\u001b[1;32m----> 4\u001b[0m \u001b[38;5;28;01mfrom\u001b[39;00m \u001b[38;5;21;01mathina\u001b[39;00m\u001b[38;5;21;01m.\u001b[39;00m\u001b[38;5;21;01msteps\u001b[39;00m\u001b[38;5;21;01m.\u001b[39;00m\u001b[38;5;21;01mcode_execution_v2\u001b[39;00m \u001b[38;5;28;01mimport\u001b[39;00m CodeExecutionV2, EXECUTION_E2B\n\u001b[0;32m      7\u001b[0m \u001b[38;5;28;01mclass\u001b[39;00m \u001b[38;5;21;01mConditionalStep\u001b[39;00m(Step):\n\u001b[0;32m      8\u001b[0m \u001b[38;5;250m    \u001b[39m\u001b[38;5;124;03m\"\"\"Step that evaluates conditions and executes appropriate branch steps.\"\"\"\u001b[39;00m\n",
            "File \u001b[1;32mc:\\Users\\patel\\AppData\\Local\\Programs\\Python\\Python310\\lib\\site-packages\\athina\\steps\\code_execution_v2.py:85\u001b[0m\n\u001b[0;32m     56\u001b[0m \u001b[38;5;66;03m# Extract variable capture code into a constant\u001b[39;00m\n\u001b[0;32m     57\u001b[0m VARIABLE_CAPTURE_CODE \u001b[38;5;241m=\u001b[39m \u001b[38;5;124mf\u001b[39m\u001b[38;5;124m\"\"\"\u001b[39m\n\u001b[0;32m     58\u001b[0m \u001b[38;5;124mimport json\u001b[39m\n\u001b[0;32m     59\u001b[0m \n\u001b[1;32m   (...)\u001b[0m\n\u001b[0;32m     81\u001b[0m \u001b[38;5;124mprint(\u001b[39m\u001b[38;5;124m'\u001b[39m\u001b[38;5;132;01m{\u001b[39;00mVARS_END_MARKER\u001b[38;5;132;01m}\u001b[39;00m\u001b[38;5;124m'\u001b[39m\u001b[38;5;124m)\u001b[39m\n\u001b[0;32m     82\u001b[0m \u001b[38;5;124m\"\"\"\u001b[39m\n\u001b[1;32m---> 85\u001b[0m \u001b[38;5;28;01mclass\u001b[39;00m \u001b[38;5;21;01mCodeExecutionV2\u001b[39;00m(Step):\n\u001b[0;32m     86\u001b[0m \u001b[38;5;250m    \u001b[39m\u001b[38;5;124;03m\"\"\"\u001b[39;00m\n\u001b[0;32m     87\u001b[0m \u001b[38;5;124;03m    Step that executes code using either local environment or E2B sandbox.\u001b[39;00m\n\u001b[0;32m     88\u001b[0m \n\u001b[1;32m   (...)\u001b[0m\n\u001b[0;32m     96\u001b[0m \u001b[38;5;124;03m        sandbox_timeout (Optional[int]): Custom timeout for sandbox operations.\u001b[39;00m\n\u001b[0;32m     97\u001b[0m \u001b[38;5;124;03m    \"\"\"\u001b[39;00m\n\u001b[0;32m     99\u001b[0m     code: \u001b[38;5;28mstr\u001b[39m\n",
            "File \u001b[1;32mc:\\Users\\patel\\AppData\\Local\\Programs\\Python\\Python310\\lib\\site-packages\\athina\\steps\\code_execution_v2.py:102\u001b[0m, in \u001b[0;36mCodeExecutionV2\u001b[1;34m()\u001b[0m\n\u001b[0;32m    100\u001b[0m session_id: \u001b[38;5;28mstr\u001b[39m\n\u001b[0;32m    101\u001b[0m name: Optional[\u001b[38;5;28mstr\u001b[39m] \u001b[38;5;241m=\u001b[39m \u001b[38;5;28;01mNone\u001b[39;00m\n\u001b[1;32m--> 102\u001b[0m _sandbox: Optional[\u001b[43mSandbox\u001b[49m] \u001b[38;5;241m=\u001b[39m \u001b[38;5;28;01mNone\u001b[39;00m\n\u001b[0;32m    103\u001b[0m execution_environment: ExecutionEnvironment \u001b[38;5;241m=\u001b[39m EXECUTION_LOCAL\n\u001b[0;32m    104\u001b[0m DEFAULT_TIMEOUT: ClassVar[\u001b[38;5;28mint\u001b[39m] \u001b[38;5;241m=\u001b[39m \u001b[38;5;241m60\u001b[39m  \u001b[38;5;66;03m# 1 minute default timeout for sandbox\u001b[39;00m\n",
            "\u001b[1;31mNameError\u001b[0m: name 'Sandbox' is not defined"
          ]
        }
      ],
      "source": [
        "# set api keys for Athina evals\n",
        "from athina.keys import AthinaApiKey, OpenAiApiKey\n",
        "OpenAiApiKey.set_key(os.getenv('OPENAI_API_KEY'))\n",
        "AthinaApiKey.set_key(os.getenv('ATHINA_API_KEY'))"
      ]
    },
    {
      "cell_type": "code",
      "execution_count": 42,
      "metadata": {
        "id": "ivAlmBPc42LB"
      },
      "outputs": [],
      "source": [
        "# load dataset\n",
        "from athina.loaders import Loader\n",
        "dataset = Loader().load_dict(df_dict)"
      ]
    },
    {
      "cell_type": "code",
      "execution_count": 44,
      "metadata": {},
      "outputs": [
        {
          "name": "stdout",
          "output_type": "stream",
          "text": [
            "Found existing installation: athina 1.7.12\n",
            "Uninstalling athina-1.7.12:\n",
            "  Successfully uninstalled athina-1.7.12\n",
            "Collecting athina\n",
            "  Downloading athina-1.7.39-py3-none-any.whl.metadata (3.5 kB)\n",
            "Requirement already satisfied: RestrictedPython<8.0,>=7.1 in c:\\users\\patel\\appdata\\local\\programs\\python\\python310\\lib\\site-packages (from athina) (7.4)\n",
            "Requirement already satisfied: bandit<2.0.0,>=1.7.8 in c:\\users\\patel\\appdata\\local\\programs\\python\\python310\\lib\\site-packages (from athina) (1.8.2)\n",
            "Requirement already satisfied: chromadb-client<0.6.0,>=0.5.20 in c:\\users\\patel\\appdata\\local\\programs\\python\\python310\\lib\\site-packages (from athina) (0.5.23)\n",
            "Requirement already satisfied: colorlog<7.0.0,>=6.7.0 in c:\\users\\patel\\appdata\\local\\programs\\python\\python310\\lib\\site-packages (from athina) (6.9.0)\n",
            "Requirement already satisfied: datasets<3.0.0,>=2.16.0 in c:\\users\\patel\\appdata\\local\\programs\\python\\python310\\lib\\site-packages (from athina) (2.21.0)\n",
            "Requirement already satisfied: editdistance<0.9.0,>=0.8.1 in c:\\users\\patel\\appdata\\local\\programs\\python\\python310\\lib\\site-packages (from athina) (0.8.1)\n",
            "Requirement already satisfied: jinja2<4.0.0,>=3.1.4 in c:\\users\\patel\\appdata\\local\\programs\\python\\python310\\lib\\site-packages (from athina) (3.1.6)\n",
            "Requirement already satisfied: jsonpath-ng<2.0.0,>=1.6.0 in c:\\users\\patel\\appdata\\local\\programs\\python\\python310\\lib\\site-packages (from athina) (1.7.0)\n",
            "Requirement already satisfied: jsonschema<5.0.0,>=4.22.0 in c:\\users\\patel\\appdata\\local\\programs\\python\\python310\\lib\\site-packages (from athina) (4.23.0)\n",
            "Collecting litellm==1.67.4.post1 (from athina)\n",
            "  Downloading litellm-1.67.4.post1.tar.gz (7.2 MB)\n",
            "     ---------------------------------------- 0.0/7.2 MB ? eta -:--:--\n",
            "      --------------------------------------- 0.1/7.2 MB 3.3 MB/s eta 0:00:03\n",
            "     -- ------------------------------------- 0.5/7.2 MB 6.3 MB/s eta 0:00:02\n",
            "     ----------- ---------------------------- 2.0/7.2 MB 16.0 MB/s eta 0:00:01\n",
            "     --------------------- ------------------ 3.9/7.2 MB 22.5 MB/s eta 0:00:01\n",
            "     ------------------------------ --------- 5.6/7.2 MB 25.7 MB/s eta 0:00:01\n",
            "     -------------------------------------- - 6.9/7.2 MB 26.1 MB/s eta 0:00:01\n",
            "     ---------------------------------------- 7.2/7.2 MB 24.4 MB/s eta 0:00:00\n",
            "  Installing build dependencies: started\n",
            "  Installing build dependencies: finished with status 'done'\n",
            "  Getting requirements to build wheel: started\n",
            "  Getting requirements to build wheel: finished with status 'done'\n",
            "  Preparing metadata (pyproject.toml): started\n",
            "  Preparing metadata (pyproject.toml): finished with status 'done'\n",
            "Requirement already satisfied: llama-index<0.12.0,>=0.11.0 in c:\\users\\patel\\appdata\\local\\programs\\python\\python310\\lib\\site-packages (from athina) (0.11.23)\n",
            "Requirement already satisfied: llama-index-vector-stores-pinecone<0.4.0,>=0.3.1 in c:\\users\\patel\\appdata\\local\\programs\\python\\python310\\lib\\site-packages (from athina) (0.3.1)\n",
            "Requirement already satisfied: llama-index-vector-stores-qdrant<0.4.0,>=0.3.0 in c:\\users\\patel\\appdata\\local\\programs\\python\\python310\\lib\\site-packages (from athina) (0.3.3)\n",
            "Requirement already satisfied: marvin<3.0.0,>=2.3.4 in c:\\users\\patel\\appdata\\local\\programs\\python\\python310\\lib\\site-packages (from athina) (2.3.8)\n",
            "Requirement already satisfied: openai<2.0.0,>=1.3.4 in c:\\users\\patel\\appdata\\local\\programs\\python\\python310\\lib\\site-packages (from athina) (1.82.1)\n",
            "Requirement already satisfied: pandas in c:\\users\\patel\\appdata\\local\\programs\\python\\python310\\lib\\site-packages (from athina) (2.1.2)\n",
            "Requirement already satisfied: pinecone-client<5.0.0,>=4.1.0 in c:\\users\\patel\\appdata\\local\\programs\\python\\python310\\lib\\site-packages (from athina) (4.1.2)\n",
            "Requirement already satisfied: pydantic<3.0.0,>=2.6.3 in c:\\users\\patel\\appdata\\local\\programs\\python\\python310\\lib\\site-packages (from athina) (2.9.2)\n",
            "Requirement already satisfied: pydantic-settings<3.0.0,>=2.2.1 in c:\\users\\patel\\appdata\\local\\programs\\python\\python310\\lib\\site-packages (from athina) (2.6.1)\n",
            "Requirement already satisfied: pydantic_core<3.0.0,>=2.16.3 in c:\\users\\patel\\appdata\\local\\programs\\python\\python310\\lib\\site-packages (from athina) (2.23.4)\n",
            "Requirement already satisfied: python-dotenv<2.0.0,>=1.0.0 in c:\\users\\patel\\appdata\\local\\programs\\python\\python310\\lib\\site-packages (from athina) (1.0.1)\n",
            "Requirement already satisfied: pyyaml<7.0.0,>=6.0.1 in c:\\users\\patel\\appdata\\local\\programs\\python\\python310\\lib\\site-packages (from athina) (6.0.2)\n",
            "Requirement already satisfied: qdrant-client<2.0.0,>=1.9.1 in c:\\users\\patel\\appdata\\local\\programs\\python\\python310\\lib\\site-packages (from athina) (1.13.2)\n",
            "Requirement already satisfied: ragas<0.3.0,>=0.2.8 in c:\\users\\patel\\appdata\\local\\programs\\python\\python310\\lib\\site-packages (from athina) (0.2.13)\n",
            "Requirement already satisfied: requests<3.0.0,>=2.31.0 in c:\\users\\patel\\appdata\\local\\programs\\python\\python310\\lib\\site-packages (from athina) (2.32.3)\n",
            "Requirement already satisfied: retrying<2.0.0,>=1.3.4 in c:\\users\\patel\\appdata\\local\\programs\\python\\python310\\lib\\site-packages (from athina) (1.3.4)\n",
            "Requirement already satisfied: textdistance<5.0.0,>=4.6.3 in c:\\users\\patel\\appdata\\local\\programs\\python\\python310\\lib\\site-packages (from athina) (4.6.3)\n",
            "Requirement already satisfied: textstat<0.8.0,>=0.7.4 in c:\\users\\patel\\appdata\\local\\programs\\python\\python310\\lib\\site-packages (from athina) (0.7.5)\n",
            "Requirement already satisfied: tiktoken<0.9.0,>=0.8.0 in c:\\users\\patel\\appdata\\local\\programs\\python\\python310\\lib\\site-packages (from athina) (0.8.0)\n",
            "Requirement already satisfied: timeout-decorator<0.6.0,>=0.5.0 in c:\\users\\patel\\appdata\\local\\programs\\python\\python310\\lib\\site-packages (from athina) (0.5.0)\n",
            "Requirement already satisfied: tokenizers<0.20,>=0.19 in c:\\users\\patel\\appdata\\local\\programs\\python\\python310\\lib\\site-packages (from athina) (0.19.1)\n",
            "Requirement already satisfied: weaviate-client<5.0.0,>=4.9.0 in c:\\users\\patel\\appdata\\local\\programs\\python\\python310\\lib\\site-packages (from athina) (4.10.4)\n",
            "Requirement already satisfied: aiohttp in c:\\users\\patel\\appdata\\local\\programs\\python\\python310\\lib\\site-packages (from litellm==1.67.4.post1->athina) (3.10.10)\n",
            "Requirement already satisfied: click in c:\\users\\patel\\appdata\\local\\programs\\python\\python310\\lib\\site-packages (from litellm==1.67.4.post1->athina) (8.1.7)\n",
            "Requirement already satisfied: httpx>=0.23.0 in c:\\users\\patel\\appdata\\local\\programs\\python\\python310\\lib\\site-packages (from litellm==1.67.4.post1->athina) (0.27.2)\n",
            "Requirement already satisfied: importlib-metadata>=6.8.0 in c:\\users\\patel\\appdata\\local\\programs\\python\\python310\\lib\\site-packages (from litellm==1.67.4.post1->athina) (8.5.0)\n",
            "Requirement already satisfied: stevedore>=1.20.0 in c:\\users\\patel\\appdata\\local\\programs\\python\\python310\\lib\\site-packages (from bandit<2.0.0,>=1.7.8->athina) (5.4.0)\n",
            "Requirement already satisfied: rich in c:\\users\\patel\\appdata\\local\\programs\\python\\python310\\lib\\site-packages (from bandit<2.0.0,>=1.7.8->athina) (13.9.4)\n",
            "Requirement already satisfied: colorama>=0.3.9 in c:\\users\\patel\\appdata\\roaming\\python\\python310\\site-packages (from bandit<2.0.0,>=1.7.8->athina) (0.4.6)\n",
            "Requirement already satisfied: numpy<2.0.0,>=1.22.5 in c:\\users\\patel\\appdata\\local\\programs\\python\\python310\\lib\\site-packages (from chromadb-client<0.6.0,>=0.5.20->athina) (1.26.0)\n",
            "Requirement already satisfied: opentelemetry-api>=1.2.0 in c:\\users\\patel\\appdata\\local\\programs\\python\\python310\\lib\\site-packages (from chromadb-client<0.6.0,>=0.5.20->athina) (1.28.2)\n",
            "Requirement already satisfied: opentelemetry-exporter-otlp-proto-grpc>=1.2.0 in c:\\users\\patel\\appdata\\local\\programs\\python\\python310\\lib\\site-packages (from chromadb-client<0.6.0,>=0.5.20->athina) (1.28.2)\n",
            "Requirement already satisfied: opentelemetry-sdk>=1.2.0 in c:\\users\\patel\\appdata\\local\\programs\\python\\python310\\lib\\site-packages (from chromadb-client<0.6.0,>=0.5.20->athina) (1.28.2)\n",
            "Requirement already satisfied: overrides>=7.3.1 in c:\\users\\patel\\appdata\\local\\programs\\python\\python310\\lib\\site-packages (from chromadb-client<0.6.0,>=0.5.20->athina) (7.7.0)\n",
            "Requirement already satisfied: posthog>=2.4.0 in c:\\users\\patel\\appdata\\local\\programs\\python\\python310\\lib\\site-packages (from chromadb-client<0.6.0,>=0.5.20->athina) (3.7.4)\n",
            "Requirement already satisfied: typing_extensions>=4.5.0 in c:\\users\\patel\\appdata\\local\\programs\\python\\python310\\lib\\site-packages (from chromadb-client<0.6.0,>=0.5.20->athina) (4.12.2)\n",
            "Requirement already satisfied: tenacity>=8.2.3 in c:\\users\\patel\\appdata\\local\\programs\\python\\python310\\lib\\site-packages (from chromadb-client<0.6.0,>=0.5.20->athina) (8.5.0)\n",
            "Requirement already satisfied: orjson>=3.9.12 in c:\\users\\patel\\appdata\\local\\programs\\python\\python310\\lib\\site-packages (from chromadb-client<0.6.0,>=0.5.20->athina) (3.10.12)\n",
            "Requirement already satisfied: filelock in c:\\users\\patel\\appdata\\local\\programs\\python\\python310\\lib\\site-packages (from datasets<3.0.0,>=2.16.0->athina) (3.13.4)\n",
            "Requirement already satisfied: pyarrow>=15.0.0 in c:\\users\\patel\\appdata\\local\\programs\\python\\python310\\lib\\site-packages (from datasets<3.0.0,>=2.16.0->athina) (18.0.0)\n",
            "Requirement already satisfied: dill<0.3.9,>=0.3.0 in c:\\users\\patel\\appdata\\local\\programs\\python\\python310\\lib\\site-packages (from datasets<3.0.0,>=2.16.0->athina) (0.3.8)\n",
            "Requirement already satisfied: tqdm>=4.66.3 in c:\\users\\patel\\appdata\\local\\programs\\python\\python310\\lib\\site-packages (from datasets<3.0.0,>=2.16.0->athina) (4.66.6)\n",
            "Requirement already satisfied: xxhash in c:\\users\\patel\\appdata\\local\\programs\\python\\python310\\lib\\site-packages (from datasets<3.0.0,>=2.16.0->athina) (3.5.0)\n",
            "Requirement already satisfied: multiprocess in c:\\users\\patel\\appdata\\local\\programs\\python\\python310\\lib\\site-packages (from datasets<3.0.0,>=2.16.0->athina) (0.70.16)\n",
            "Requirement already satisfied: fsspec<=2024.6.1,>=2023.1.0 in c:\\users\\patel\\appdata\\local\\programs\\python\\python310\\lib\\site-packages (from fsspec[http]<=2024.6.1,>=2023.1.0->datasets<3.0.0,>=2.16.0->athina) (2024.6.1)\n",
            "Requirement already satisfied: huggingface-hub>=0.21.2 in c:\\users\\patel\\appdata\\local\\programs\\python\\python310\\lib\\site-packages (from datasets<3.0.0,>=2.16.0->athina) (0.28.1)\n",
            "Requirement already satisfied: packaging in c:\\users\\patel\\appdata\\roaming\\python\\python310\\site-packages (from datasets<3.0.0,>=2.16.0->athina) (24.0)\n",
            "Requirement already satisfied: MarkupSafe>=2.0 in c:\\users\\patel\\appdata\\local\\programs\\python\\python310\\lib\\site-packages (from jinja2<4.0.0,>=3.1.4->athina) (2.1.3)\n",
            "Requirement already satisfied: ply in c:\\users\\patel\\appdata\\local\\programs\\python\\python310\\lib\\site-packages (from jsonpath-ng<2.0.0,>=1.6.0->athina) (3.11)\n",
            "Requirement already satisfied: attrs>=22.2.0 in c:\\users\\patel\\appdata\\local\\programs\\python\\python310\\lib\\site-packages (from jsonschema<5.0.0,>=4.22.0->athina) (24.2.0)\n",
            "Requirement already satisfied: jsonschema-specifications>=2023.03.6 in c:\\users\\patel\\appdata\\local\\programs\\python\\python310\\lib\\site-packages (from jsonschema<5.0.0,>=4.22.0->athina) (2024.10.1)\n",
            "Requirement already satisfied: referencing>=0.28.4 in c:\\users\\patel\\appdata\\local\\programs\\python\\python310\\lib\\site-packages (from jsonschema<5.0.0,>=4.22.0->athina) (0.35.1)\n",
            "Requirement already satisfied: rpds-py>=0.7.1 in c:\\users\\patel\\appdata\\local\\programs\\python\\python310\\lib\\site-packages (from jsonschema<5.0.0,>=4.22.0->athina) (0.20.1)\n",
            "Requirement already satisfied: llama-index-agent-openai<0.4.0,>=0.3.4 in c:\\users\\patel\\appdata\\local\\programs\\python\\python310\\lib\\site-packages (from llama-index<0.12.0,>=0.11.0->athina) (0.3.4)\n",
            "Requirement already satisfied: llama-index-cli<0.4.0,>=0.3.1 in c:\\users\\patel\\appdata\\local\\programs\\python\\python310\\lib\\site-packages (from llama-index<0.12.0,>=0.11.0->athina) (0.3.1)\n",
            "Requirement already satisfied: llama-index-core<0.12.0,>=0.11.23 in c:\\users\\patel\\appdata\\local\\programs\\python\\python310\\lib\\site-packages (from llama-index<0.12.0,>=0.11.0->athina) (0.11.23)\n",
            "Requirement already satisfied: llama-index-embeddings-openai<0.3.0,>=0.2.4 in c:\\users\\patel\\appdata\\local\\programs\\python\\python310\\lib\\site-packages (from llama-index<0.12.0,>=0.11.0->athina) (0.2.5)\n",
            "Requirement already satisfied: llama-index-indices-managed-llama-cloud>=0.3.0 in c:\\users\\patel\\appdata\\local\\programs\\python\\python310\\lib\\site-packages (from llama-index<0.12.0,>=0.11.0->athina) (0.6.0)\n",
            "Requirement already satisfied: llama-index-legacy<0.10.0,>=0.9.48 in c:\\users\\patel\\appdata\\local\\programs\\python\\python310\\lib\\site-packages (from llama-index<0.12.0,>=0.11.0->athina) (0.9.48.post4)\n",
            "Requirement already satisfied: llama-index-llms-openai<0.3.0,>=0.2.10 in c:\\users\\patel\\appdata\\local\\programs\\python\\python310\\lib\\site-packages (from llama-index<0.12.0,>=0.11.0->athina) (0.2.16)\n",
            "Requirement already satisfied: llama-index-multi-modal-llms-openai<0.3.0,>=0.2.0 in c:\\users\\patel\\appdata\\local\\programs\\python\\python310\\lib\\site-packages (from llama-index<0.12.0,>=0.11.0->athina) (0.2.3)\n",
            "Requirement already satisfied: llama-index-program-openai<0.3.0,>=0.2.0 in c:\\users\\patel\\appdata\\local\\programs\\python\\python310\\lib\\site-packages (from llama-index<0.12.0,>=0.11.0->athina) (0.2.0)\n",
            "Requirement already satisfied: llama-index-question-gen-openai<0.3.0,>=0.2.0 in c:\\users\\patel\\appdata\\local\\programs\\python\\python310\\lib\\site-packages (from llama-index<0.12.0,>=0.11.0->athina) (0.2.0)\n",
            "Requirement already satisfied: llama-index-readers-file<0.4.0,>=0.3.0 in c:\\users\\patel\\appdata\\local\\programs\\python\\python310\\lib\\site-packages (from llama-index<0.12.0,>=0.11.0->athina) (0.3.0)\n",
            "Requirement already satisfied: llama-index-readers-llama-parse>=0.3.0 in c:\\users\\patel\\appdata\\local\\programs\\python\\python310\\lib\\site-packages (from llama-index<0.12.0,>=0.11.0->athina) (0.3.0)\n",
            "Requirement already satisfied: nltk>3.8.1 in c:\\users\\patel\\appdata\\local\\programs\\python\\python310\\lib\\site-packages (from llama-index<0.12.0,>=0.11.0->athina) (3.9.1)\n",
            "Requirement already satisfied: grpcio<2.0.0,>=1.60.0 in c:\\users\\patel\\appdata\\local\\programs\\python\\python310\\lib\\site-packages (from llama-index-vector-stores-qdrant<0.4.0,>=0.3.0->athina) (1.70.0)\n",
            "Requirement already satisfied: cachetools>=5 in c:\\users\\patel\\appdata\\local\\programs\\python\\python310\\lib\\site-packages (from marvin<3.0.0,>=2.3.4->athina) (5.5.0)\n",
            "Requirement already satisfied: fastapi in c:\\users\\patel\\appdata\\local\\programs\\python\\python310\\lib\\site-packages (from marvin<3.0.0,>=2.3.4->athina) (0.115.5)\n",
            "Requirement already satisfied: jsonpatch>=1.33 in c:\\users\\patel\\appdata\\local\\programs\\python\\python310\\lib\\site-packages (from marvin<3.0.0,>=2.3.4->athina) (1.33)\n",
            "Requirement already satisfied: prompt-toolkit>=3.0.33 in c:\\users\\patel\\appdata\\roaming\\python\\python310\\site-packages (from marvin<3.0.0,>=2.3.4->athina) (3.0.43)\n",
            "Requirement already satisfied: typer>=0.9.0 in c:\\users\\patel\\appdata\\local\\programs\\python\\python310\\lib\\site-packages (from marvin<3.0.0,>=2.3.4->athina) (0.15.1)\n",
            "Requirement already satisfied: tzdata>=2023.3 in c:\\users\\patel\\appdata\\local\\programs\\python\\python310\\lib\\site-packages (from marvin<3.0.0,>=2.3.4->athina) (2024.2)\n",
            "Requirement already satisfied: uvicorn>=0.22.0 in c:\\users\\patel\\appdata\\local\\programs\\python\\python310\\lib\\site-packages (from marvin<3.0.0,>=2.3.4->athina) (0.32.1)\n",
            "Requirement already satisfied: partialjson>=0.0.5 in c:\\users\\patel\\appdata\\local\\programs\\python\\python310\\lib\\site-packages (from marvin<3.0.0,>=2.3.4->athina) (0.1.0)\n",
            "Requirement already satisfied: anyio<5,>=3.5.0 in c:\\users\\patel\\appdata\\local\\programs\\python\\python310\\lib\\site-packages (from openai<2.0.0,>=1.3.4->athina) (4.6.2.post1)\n",
            "Requirement already satisfied: distro<2,>=1.7.0 in c:\\users\\patel\\appdata\\local\\programs\\python\\python310\\lib\\site-packages (from openai<2.0.0,>=1.3.4->athina) (1.9.0)\n",
            "Requirement already satisfied: jiter<1,>=0.4.0 in c:\\users\\patel\\appdata\\local\\programs\\python\\python310\\lib\\site-packages (from openai<2.0.0,>=1.3.4->athina) (0.8.0)\n",
            "Requirement already satisfied: sniffio in c:\\users\\patel\\appdata\\local\\programs\\python\\python310\\lib\\site-packages (from openai<2.0.0,>=1.3.4->athina) (1.3.1)\n",
            "Requirement already satisfied: certifi>=2019.11.17 in c:\\users\\patel\\appdata\\local\\programs\\python\\python310\\lib\\site-packages (from pinecone-client<5.0.0,>=4.1.0->athina) (2023.5.7)\n",
            "Requirement already satisfied: pinecone-plugin-interface<0.0.8,>=0.0.7 in c:\\users\\patel\\appdata\\local\\programs\\python\\python310\\lib\\site-packages (from pinecone-client<5.0.0,>=4.1.0->athina) (0.0.7)\n",
            "Requirement already satisfied: urllib3>=1.26.0 in c:\\users\\patel\\appdata\\local\\programs\\python\\python310\\lib\\site-packages (from pinecone-client<5.0.0,>=4.1.0->athina) (2.2.3)\n",
            "Requirement already satisfied: annotated-types>=0.6.0 in c:\\users\\patel\\appdata\\local\\programs\\python\\python310\\lib\\site-packages (from pydantic<3.0.0,>=2.6.3->athina) (0.7.0)\n",
            "Requirement already satisfied: grpcio-tools>=1.41.0 in c:\\users\\patel\\appdata\\local\\programs\\python\\python310\\lib\\site-packages (from qdrant-client<2.0.0,>=1.9.1->athina) (1.70.0)\n",
            "Requirement already satisfied: portalocker<3.0.0,>=2.7.0 in c:\\users\\patel\\appdata\\local\\programs\\python\\python310\\lib\\site-packages (from qdrant-client<2.0.0,>=1.9.1->athina) (2.10.1)\n",
            "Requirement already satisfied: langchain in c:\\users\\patel\\appdata\\local\\programs\\python\\python310\\lib\\site-packages (from ragas<0.3.0,>=0.2.8->athina) (0.3.25)\n",
            "Requirement already satisfied: langchain-core in c:\\users\\patel\\appdata\\local\\programs\\python\\python310\\lib\\site-packages (from ragas<0.3.0,>=0.2.8->athina) (0.3.63)\n",
            "Requirement already satisfied: langchain-community in c:\\users\\patel\\appdata\\local\\programs\\python\\python310\\lib\\site-packages (from ragas<0.3.0,>=0.2.8->athina) (0.3.15)\n",
            "Requirement already satisfied: langchain_openai in c:\\users\\patel\\appdata\\local\\programs\\python\\python310\\lib\\site-packages (from ragas<0.3.0,>=0.2.8->athina) (0.3.18)\n",
            "Requirement already satisfied: nest-asyncio in c:\\users\\patel\\appdata\\roaming\\python\\python310\\site-packages (from ragas<0.3.0,>=0.2.8->athina) (1.6.0)\n",
            "Requirement already satisfied: appdirs in c:\\users\\patel\\appdata\\local\\programs\\python\\python310\\lib\\site-packages (from ragas<0.3.0,>=0.2.8->athina) (1.4.4)\n",
            "Requirement already satisfied: diskcache>=5.6.3 in c:\\users\\patel\\appdata\\local\\programs\\python\\python310\\lib\\site-packages (from ragas<0.3.0,>=0.2.8->athina) (5.6.3)\n",
            "Requirement already satisfied: charset-normalizer<4,>=2 in c:\\users\\patel\\appdata\\local\\programs\\python\\python310\\lib\\site-packages (from requests<3.0.0,>=2.31.0->athina) (3.4.0)\n",
            "Requirement already satisfied: idna<4,>=2.5 in c:\\users\\patel\\appdata\\local\\programs\\python\\python310\\lib\\site-packages (from requests<3.0.0,>=2.31.0->athina) (3.10)\n",
            "Requirement already satisfied: six>=1.7.0 in c:\\users\\patel\\appdata\\roaming\\python\\python310\\site-packages (from retrying<2.0.0,>=1.3.4->athina) (1.16.0)\n",
            "Requirement already satisfied: pyphen in c:\\users\\patel\\appdata\\local\\programs\\python\\python310\\lib\\site-packages (from textstat<0.8.0,>=0.7.4->athina) (0.17.2)\n",
            "Requirement already satisfied: cmudict in c:\\users\\patel\\appdata\\local\\programs\\python\\python310\\lib\\site-packages (from textstat<0.8.0,>=0.7.4->athina) (1.0.32)\n",
            "Requirement already satisfied: setuptools in c:\\users\\patel\\appdata\\local\\programs\\python\\python310\\lib\\site-packages (from textstat<0.8.0,>=0.7.4->athina) (65.5.0)\n",
            "Requirement already satisfied: regex>=2022.1.18 in c:\\users\\patel\\appdata\\local\\programs\\python\\python310\\lib\\site-packages (from tiktoken<0.9.0,>=0.8.0->athina) (2024.11.6)\n",
            "Requirement already satisfied: validators==0.34.0 in c:\\users\\patel\\appdata\\local\\programs\\python\\python310\\lib\\site-packages (from weaviate-client<5.0.0,>=4.9.0->athina) (0.34.0)\n",
            "Requirement already satisfied: authlib<1.3.2,>=1.2.1 in c:\\users\\patel\\appdata\\local\\programs\\python\\python310\\lib\\site-packages (from weaviate-client<5.0.0,>=4.9.0->athina) (1.3.1)\n",
            "Requirement already satisfied: grpcio-health-checking<2.0.0,>=1.66.2 in c:\\users\\patel\\appdata\\local\\programs\\python\\python310\\lib\\site-packages (from weaviate-client<5.0.0,>=4.9.0->athina) (1.70.0)\n",
            "Requirement already satisfied: python-dateutil>=2.8.2 in c:\\users\\patel\\appdata\\roaming\\python\\python310\\site-packages (from pandas->athina) (2.9.0.post0)\n",
            "Requirement already satisfied: pytz>=2020.1 in c:\\users\\patel\\appdata\\local\\programs\\python\\python310\\lib\\site-packages (from pandas->athina) (2024.2)\n",
            "Requirement already satisfied: exceptiongroup>=1.0.2 in c:\\users\\patel\\appdata\\roaming\\python\\python310\\site-packages (from anyio<5,>=3.5.0->openai<2.0.0,>=1.3.4->athina) (1.2.0)\n",
            "Requirement already satisfied: cryptography in c:\\users\\patel\\appdata\\local\\programs\\python\\python310\\lib\\site-packages (from authlib<1.3.2,>=1.2.1->weaviate-client<5.0.0,>=4.9.0->athina) (44.0.0)\n",
            "Requirement already satisfied: aiohappyeyeballs>=2.3.0 in c:\\users\\patel\\appdata\\local\\programs\\python\\python310\\lib\\site-packages (from aiohttp->litellm==1.67.4.post1->athina) (2.4.3)\n",
            "Requirement already satisfied: aiosignal>=1.1.2 in c:\\users\\patel\\appdata\\local\\programs\\python\\python310\\lib\\site-packages (from aiohttp->litellm==1.67.4.post1->athina) (1.3.1)\n",
            "Requirement already satisfied: frozenlist>=1.1.1 in c:\\users\\patel\\appdata\\local\\programs\\python\\python310\\lib\\site-packages (from aiohttp->litellm==1.67.4.post1->athina) (1.5.0)\n",
            "Requirement already satisfied: multidict<7.0,>=4.5 in c:\\users\\patel\\appdata\\local\\programs\\python\\python310\\lib\\site-packages (from aiohttp->litellm==1.67.4.post1->athina) (6.1.0)\n",
            "Requirement already satisfied: yarl<2.0,>=1.12.0 in c:\\users\\patel\\appdata\\local\\programs\\python\\python310\\lib\\site-packages (from aiohttp->litellm==1.67.4.post1->athina) (1.17.1)\n",
            "Requirement already satisfied: async-timeout<5.0,>=4.0 in c:\\users\\patel\\appdata\\local\\programs\\python\\python310\\lib\\site-packages (from aiohttp->litellm==1.67.4.post1->athina) (4.0.3)\n",
            "Requirement already satisfied: protobuf<6.0dev,>=5.26.1 in c:\\users\\patel\\appdata\\local\\programs\\python\\python310\\lib\\site-packages (from grpcio-health-checking<2.0.0,>=1.66.2->weaviate-client<5.0.0,>=4.9.0->athina) (5.29.0)\n",
            "Requirement already satisfied: httpcore==1.* in c:\\users\\patel\\appdata\\local\\programs\\python\\python310\\lib\\site-packages (from httpx>=0.23.0->litellm==1.67.4.post1->athina) (1.0.6)\n",
            "Requirement already satisfied: h11<0.15,>=0.13 in c:\\users\\patel\\appdata\\local\\programs\\python\\python310\\lib\\site-packages (from httpcore==1.*->httpx>=0.23.0->litellm==1.67.4.post1->athina) (0.14.0)\n",
            "Requirement already satisfied: h2<5,>=3 in c:\\users\\patel\\appdata\\local\\programs\\python\\python310\\lib\\site-packages (from httpx[http2]>=0.20.0->qdrant-client<2.0.0,>=1.9.1->athina) (4.1.0)\n",
            "Requirement already satisfied: zipp>=3.20 in c:\\users\\patel\\appdata\\local\\programs\\python\\python310\\lib\\site-packages (from importlib-metadata>=6.8.0->litellm==1.67.4.post1->athina) (3.20.2)\n",
            "Requirement already satisfied: jsonpointer>=1.9 in c:\\users\\patel\\appdata\\local\\programs\\python\\python310\\lib\\site-packages (from jsonpatch>=1.33->marvin<3.0.0,>=2.3.4->athina) (3.0.0)\n",
            "Requirement already satisfied: SQLAlchemy>=1.4.49 in c:\\users\\patel\\appdata\\local\\programs\\python\\python310\\lib\\site-packages (from SQLAlchemy[asyncio]>=1.4.49->llama-index-core<0.12.0,>=0.11.23->llama-index<0.12.0,>=0.11.0->athina) (2.0.29)\n",
            "Requirement already satisfied: dataclasses-json in c:\\users\\patel\\appdata\\local\\programs\\python\\python310\\lib\\site-packages (from llama-index-core<0.12.0,>=0.11.23->llama-index<0.12.0,>=0.11.0->athina) (0.6.7)\n",
            "Requirement already satisfied: deprecated>=1.2.9.3 in c:\\users\\patel\\appdata\\local\\programs\\python\\python310\\lib\\site-packages (from llama-index-core<0.12.0,>=0.11.23->llama-index<0.12.0,>=0.11.0->athina) (1.2.15)\n",
            "Requirement already satisfied: dirtyjson<2.0.0,>=1.0.8 in c:\\users\\patel\\appdata\\local\\programs\\python\\python310\\lib\\site-packages (from llama-index-core<0.12.0,>=0.11.23->llama-index<0.12.0,>=0.11.0->athina) (1.0.8)\n",
            "Requirement already satisfied: filetype<2.0.0,>=1.2.0 in c:\\users\\patel\\appdata\\local\\programs\\python\\python310\\lib\\site-packages (from llama-index-core<0.12.0,>=0.11.23->llama-index<0.12.0,>=0.11.0->athina) (1.2.0)\n",
            "Requirement already satisfied: networkx>=3.0 in c:\\users\\patel\\appdata\\local\\programs\\python\\python310\\lib\\site-packages (from llama-index-core<0.12.0,>=0.11.23->llama-index<0.12.0,>=0.11.0->athina) (3.4.2)\n",
            "Requirement already satisfied: pillow>=9.0.0 in c:\\users\\patel\\appdata\\local\\programs\\python\\python310\\lib\\site-packages (from llama-index-core<0.12.0,>=0.11.23->llama-index<0.12.0,>=0.11.0->athina) (10.4.0)\n",
            "Requirement already satisfied: typing-inspect>=0.8.0 in c:\\users\\patel\\appdata\\local\\programs\\python\\python310\\lib\\site-packages (from llama-index-core<0.12.0,>=0.11.23->llama-index<0.12.0,>=0.11.0->athina) (0.9.0)\n",
            "Requirement already satisfied: wrapt in c:\\users\\patel\\appdata\\local\\programs\\python\\python310\\lib\\site-packages (from llama-index-core<0.12.0,>=0.11.23->llama-index<0.12.0,>=0.11.0->athina) (1.16.0)\n",
            "Requirement already satisfied: llama-cloud>=0.1.5 in c:\\users\\patel\\appdata\\local\\programs\\python\\python310\\lib\\site-packages (from llama-index-indices-managed-llama-cloud>=0.3.0->llama-index<0.12.0,>=0.11.0->athina) (0.1.5)\n",
            "Requirement already satisfied: beautifulsoup4<5.0.0,>=4.12.3 in c:\\users\\patel\\appdata\\local\\programs\\python\\python310\\lib\\site-packages (from llama-index-readers-file<0.4.0,>=0.3.0->llama-index<0.12.0,>=0.11.0->athina) (4.12.3)\n",
            "Requirement already satisfied: pypdf<6.0.0,>=5.1.0 in c:\\users\\patel\\appdata\\local\\programs\\python\\python310\\lib\\site-packages (from llama-index-readers-file<0.4.0,>=0.3.0->llama-index<0.12.0,>=0.11.0->athina) (5.1.0)\n",
            "Requirement already satisfied: striprtf<0.0.27,>=0.0.26 in c:\\users\\patel\\appdata\\local\\programs\\python\\python310\\lib\\site-packages (from llama-index-readers-file<0.4.0,>=0.3.0->llama-index<0.12.0,>=0.11.0->athina) (0.0.26)\n",
            "Requirement already satisfied: llama-parse>=0.5.0 in c:\\users\\patel\\appdata\\local\\programs\\python\\python310\\lib\\site-packages (from llama-index-readers-llama-parse>=0.3.0->llama-index<0.12.0,>=0.11.0->athina) (0.5.15)\n",
            "Requirement already satisfied: joblib in c:\\users\\patel\\appdata\\local\\programs\\python\\python310\\lib\\site-packages (from nltk>3.8.1->llama-index<0.12.0,>=0.11.0->athina) (1.4.0)\n",
            "Requirement already satisfied: googleapis-common-protos~=1.52 in c:\\users\\patel\\appdata\\local\\programs\\python\\python310\\lib\\site-packages (from opentelemetry-exporter-otlp-proto-grpc>=1.2.0->chromadb-client<0.6.0,>=0.5.20->athina) (1.66.0)\n",
            "Requirement already satisfied: opentelemetry-exporter-otlp-proto-common==1.28.2 in c:\\users\\patel\\appdata\\local\\programs\\python\\python310\\lib\\site-packages (from opentelemetry-exporter-otlp-proto-grpc>=1.2.0->chromadb-client<0.6.0,>=0.5.20->athina) (1.28.2)\n",
            "Requirement already satisfied: opentelemetry-proto==1.28.2 in c:\\users\\patel\\appdata\\local\\programs\\python\\python310\\lib\\site-packages (from opentelemetry-exporter-otlp-proto-grpc>=1.2.0->chromadb-client<0.6.0,>=0.5.20->athina) (1.28.2)\n",
            "Requirement already satisfied: opentelemetry-semantic-conventions==0.49b2 in c:\\users\\patel\\appdata\\local\\programs\\python\\python310\\lib\\site-packages (from opentelemetry-sdk>=1.2.0->chromadb-client<0.6.0,>=0.5.20->athina) (0.49b2)\n",
            "Requirement already satisfied: pywin32>=226 in c:\\users\\patel\\appdata\\roaming\\python\\python310\\site-packages (from portalocker<3.0.0,>=2.7.0->qdrant-client<2.0.0,>=1.9.1->athina) (306)\n",
            "Requirement already satisfied: monotonic>=1.5 in c:\\users\\patel\\appdata\\local\\programs\\python\\python310\\lib\\site-packages (from posthog>=2.4.0->chromadb-client<0.6.0,>=0.5.20->athina) (1.6)\n",
            "Requirement already satisfied: backoff>=1.10.0 in c:\\users\\patel\\appdata\\local\\programs\\python\\python310\\lib\\site-packages (from posthog>=2.4.0->chromadb-client<0.6.0,>=0.5.20->athina) (2.2.1)\n",
            "Requirement already satisfied: wcwidth in c:\\users\\patel\\appdata\\roaming\\python\\python310\\site-packages (from prompt-toolkit>=3.0.33->marvin<3.0.0,>=2.3.4->athina) (0.2.13)\n",
            "Requirement already satisfied: markdown-it-py>=2.2.0 in c:\\users\\patel\\appdata\\local\\programs\\python\\python310\\lib\\site-packages (from rich->bandit<2.0.0,>=1.7.8->athina) (3.0.0)\n",
            "Requirement already satisfied: pygments<3.0.0,>=2.13.0 in c:\\users\\patel\\appdata\\roaming\\python\\python310\\site-packages (from rich->bandit<2.0.0,>=1.7.8->athina) (2.17.2)\n",
            "Requirement already satisfied: pbr>=2.0.0 in c:\\users\\patel\\appdata\\local\\programs\\python\\python310\\lib\\site-packages (from stevedore>=1.20.0->bandit<2.0.0,>=1.7.8->athina) (6.1.1)\n",
            "Requirement already satisfied: shellingham>=1.3.0 in c:\\users\\patel\\appdata\\local\\programs\\python\\python310\\lib\\site-packages (from typer>=0.9.0->marvin<3.0.0,>=2.3.4->athina) (1.5.4)\n",
            "Requirement already satisfied: importlib-resources>=5 in c:\\users\\patel\\appdata\\local\\programs\\python\\python310\\lib\\site-packages (from cmudict->textstat<0.8.0,>=0.7.4->athina) (6.4.5)\n",
            "Requirement already satisfied: starlette<0.42.0,>=0.40.0 in c:\\users\\patel\\appdata\\local\\programs\\python\\python310\\lib\\site-packages (from fastapi->marvin<3.0.0,>=2.3.4->athina) (0.41.3)\n",
            "Requirement already satisfied: langchain-text-splitters<1.0.0,>=0.3.8 in c:\\users\\patel\\appdata\\local\\programs\\python\\python310\\lib\\site-packages (from langchain->ragas<0.3.0,>=0.2.8->athina) (0.3.8)\n",
            "Requirement already satisfied: langsmith<0.4,>=0.1.17 in c:\\users\\patel\\appdata\\local\\programs\\python\\python310\\lib\\site-packages (from langchain->ragas<0.3.0,>=0.2.8->athina) (0.1.147)\n",
            "Requirement already satisfied: httpx-sse<0.5.0,>=0.4.0 in c:\\users\\patel\\appdata\\local\\programs\\python\\python310\\lib\\site-packages (from langchain-community->ragas<0.3.0,>=0.2.8->athina) (0.4.0)\n",
            "Requirement already satisfied: soupsieve>1.2 in c:\\users\\patel\\appdata\\local\\programs\\python\\python310\\lib\\site-packages (from beautifulsoup4<5.0.0,>=4.12.3->llama-index-readers-file<0.4.0,>=0.3.0->llama-index<0.12.0,>=0.11.0->athina) (2.6)\n",
            "Requirement already satisfied: marshmallow<4.0.0,>=3.18.0 in c:\\users\\patel\\appdata\\local\\programs\\python\\python310\\lib\\site-packages (from dataclasses-json->llama-index-core<0.12.0,>=0.11.23->llama-index<0.12.0,>=0.11.0->athina) (3.23.1)\n",
            "Requirement already satisfied: hyperframe<7,>=6.0 in c:\\users\\patel\\appdata\\local\\programs\\python\\python310\\lib\\site-packages (from h2<5,>=3->httpx[http2]>=0.20.0->qdrant-client<2.0.0,>=1.9.1->athina) (6.0.1)\n",
            "Requirement already satisfied: hpack<5,>=4.0 in c:\\users\\patel\\appdata\\local\\programs\\python\\python310\\lib\\site-packages (from h2<5,>=3->httpx[http2]>=0.20.0->qdrant-client<2.0.0,>=1.9.1->athina) (4.0.0)\n",
            "Requirement already satisfied: requests-toolbelt<2.0.0,>=1.0.0 in c:\\users\\patel\\appdata\\local\\programs\\python\\python310\\lib\\site-packages (from langsmith<0.4,>=0.1.17->langchain->ragas<0.3.0,>=0.2.8->athina) (1.0.0)\n",
            "Requirement already satisfied: mdurl~=0.1 in c:\\users\\patel\\appdata\\local\\programs\\python\\python310\\lib\\site-packages (from markdown-it-py>=2.2.0->rich->bandit<2.0.0,>=1.7.8->athina) (0.1.2)\n",
            "Requirement already satisfied: greenlet!=0.4.17 in c:\\users\\patel\\appdata\\local\\programs\\python\\python310\\lib\\site-packages (from SQLAlchemy>=1.4.49->SQLAlchemy[asyncio]>=1.4.49->llama-index-core<0.12.0,>=0.11.23->llama-index<0.12.0,>=0.11.0->athina) (3.0.3)\n",
            "Requirement already satisfied: mypy-extensions>=0.3.0 in c:\\users\\patel\\appdata\\local\\programs\\python\\python310\\lib\\site-packages (from typing-inspect>=0.8.0->llama-index-core<0.12.0,>=0.11.23->llama-index<0.12.0,>=0.11.0->athina) (1.0.0)\n",
            "Requirement already satisfied: propcache>=0.2.0 in c:\\users\\patel\\appdata\\local\\programs\\python\\python310\\lib\\site-packages (from yarl<2.0,>=1.12.0->aiohttp->litellm==1.67.4.post1->athina) (0.2.0)\n",
            "Requirement already satisfied: cffi>=1.12 in c:\\users\\patel\\appdata\\local\\programs\\python\\python310\\lib\\site-packages (from cryptography->authlib<1.3.2,>=1.2.1->weaviate-client<5.0.0,>=4.9.0->athina) (1.17.1)\n",
            "Requirement already satisfied: pycparser in c:\\users\\patel\\appdata\\local\\programs\\python\\python310\\lib\\site-packages (from cffi>=1.12->cryptography->authlib<1.3.2,>=1.2.1->weaviate-client<5.0.0,>=4.9.0->athina) (2.22)\n",
            "Downloading athina-1.7.39-py3-none-any.whl (230 kB)\n",
            "   ---------------------------------------- 0.0/230.1 kB ? eta -:--:--\n",
            "   --------------------------------------- 230.1/230.1 kB 13.7 MB/s eta 0:00:00\n",
            "Building wheels for collected packages: litellm\n",
            "  Building wheel for litellm (pyproject.toml): started\n",
            "  Building wheel for litellm (pyproject.toml): finished with status 'done'\n",
            "  Created wheel for litellm: filename=litellm-1.67.4.post1-py3-none-any.whl size=7635253 sha256=be95c4fd66064a14a1f19e57732784de682d39ab16c624ce6c38ad94db0d02d8\n",
            "  Stored in directory: c:\\users\\patel\\appdata\\local\\pip\\cache\\wheels\\27\\fc\\43\\01a2b4d06331ebf20b8e8bf1c7422803c5f53128034bc72f56\n",
            "Successfully built litellm\n",
            "Installing collected packages: litellm, athina\n",
            "  Attempting uninstall: litellm\n",
            "    Found existing installation: litellm 1.59.6\n",
            "    Uninstalling litellm-1.59.6:\n",
            "      Successfully uninstalled litellm-1.59.6\n",
            "Successfully installed athina-1.7.39 litellm-1.67.4.post1\n"
          ]
        },
        {
          "name": "stderr",
          "output_type": "stream",
          "text": [
            "WARNING: Ignoring invalid distribution -atplotlib (c:\\users\\patel\\appdata\\local\\programs\\python\\python310\\lib\\site-packages)\n",
            "WARNING: Ignoring invalid distribution -atplotlib (c:\\users\\patel\\appdata\\local\\programs\\python\\python310\\lib\\site-packages)\n",
            "\n",
            "[notice] A new release of pip is available: 24.0 -> 25.1.1\n",
            "[notice] To update, run: python.exe -m pip install --upgrade pip\n"
          ]
        }
      ],
      "source": [
        "!pip uninstall athina -y\n",
        "!pip install -U athina\n"
      ]
    },
    {
      "cell_type": "code",
      "execution_count": 55,
      "metadata": {},
      "outputs": [],
      "source": [
        "from athina.keys import AthinaApiKey, OpenAiApiKey\n",
        "\n",
        "OpenAiApiKey.set_key(os.getenv('OPENAI_API_KEY'))\n",
        "AthinaApiKey.set_key(os.getenv('ATHINA_API_KEY'))"
      ]
    },
    {
      "cell_type": "code",
      "execution_count": null,
      "metadata": {},
      "outputs": [],
      "source": [
        "!pip install athina[sandbox]\n"
      ]
    },
    {
      "cell_type": "code",
      "execution_count": null,
      "metadata": {},
      "outputs": [],
      "source": [
        "!pip install ragas datasets evaluate\n"
      ]
    },
    {
      "cell_type": "code",
      "execution_count": null,
      "metadata": {},
      "outputs": [],
      "source": [
        "!pip install \"ragas[standard]\" --upgrade\n"
      ]
    },
    {
      "cell_type": "code",
      "execution_count": null,
      "metadata": {},
      "outputs": [],
      "source": [
        "!pip uninstall athina -y\n",
        "!pip install -U athina"
      ]
    },
    {
      "cell_type": "code",
      "execution_count": 58,
      "metadata": {
        "colab": {
          "base_uri": "https://localhost:8080/",
          "height": 480
        },
        "id": "l3l78eoF43y1",
        "outputId": "11d88637-b234-425a-8f94-279f7bd9c29f"
      },
      "outputs": [
        {
          "data": {
            "application/vnd.jupyter.widget-view+json": {
              "model_id": "4a07aa3431fc4e5c909b75abe64a6009",
              "version_major": 2,
              "version_minor": 0
            },
            "text/plain": [
              "Evaluating:   0%|          | 0/1 [00:00<?, ?it/s]"
            ]
          },
          "metadata": {},
          "output_type": "display_data"
        },
        {
          "name": "stderr",
          "output_type": "stream",
          "text": [
            "INFO:httpx:HTTP Request: POST https://api.openai.com/v1/chat/completions \"HTTP/1.1 401 Unauthorized\"\n",
            "INFO:httpx:HTTP Request: POST https://api.openai.com/v1/chat/completions \"HTTP/1.1 401 Unauthorized\"\n",
            "ERROR:ragas.executor:Exception raised in Job[0]: AuthenticationError(Error code: 401 - {'error': {'message': 'Incorrect API key provided: your-ope***-key. You can find your API key at https://platform.openai.com/account/api-keys.', 'type': 'invalid_request_error', 'param': None, 'code': 'invalid_api_key'}})\n",
            "c:\\Users\\patel\\AppData\\Local\\Programs\\Python\\Python310\\lib\\site-packages\\athina\\evals\\ragas\\ragas_evaluator.py:103: DeprecationWarning: The 'warn' method is deprecated, use 'warning' instead\n",
            "  logger.warn(f\"Invalid metric value: {metric_value}\")\n",
            "\u001b[33mWARN: Invalid metric value: nan\n",
            "\u001b[0m\n"
          ]
        },
        {
          "name": "stdout",
          "output_type": "stream",
          "text": [
            "Error logging dataset to Athina: AuthorizationError (Extra Info: please check your athina api key and try again)\n"
          ]
        },
        {
          "data": {
            "text/html": [
              "<div>\n",
              "<style scoped>\n",
              "    .dataframe tbody tr th:only-of-type {\n",
              "        vertical-align: middle;\n",
              "    }\n",
              "\n",
              "    .dataframe tbody tr th {\n",
              "        vertical-align: top;\n",
              "    }\n",
              "\n",
              "    .dataframe thead th {\n",
              "        text-align: right;\n",
              "    }\n",
              "</style>\n",
              "<table border=\"1\" class=\"dataframe\">\n",
              "  <thead>\n",
              "    <tr style=\"text-align: right;\">\n",
              "      <th></th>\n",
              "      <th>query</th>\n",
              "      <th>context</th>\n",
              "      <th>response</th>\n",
              "      <th>expected_response</th>\n",
              "      <th>display_name</th>\n",
              "      <th>failed</th>\n",
              "      <th>grade_reason</th>\n",
              "      <th>runtime</th>\n",
              "      <th>model</th>\n",
              "    </tr>\n",
              "  </thead>\n",
              "  <tbody>\n",
              "    <tr>\n",
              "      <th>0</th>\n",
              "      <td>what are points on a mortgage</td>\n",
              "      <td>[Discount points, also called mortgage points or simply points, are a form of pre-paid interest available in the United States when arranging a mortgage. One point equals one percent of the loan amount. By charging a borrower points, a lender effectively increases the yield on the loan above the amount of the stated interest rate. Borrowers can offer to pay a lender points as a method to reduce the interest rate on the loan, thus obtaining a lower monthly payment in exchange for this, points...</td>\n",
              "      <td>Points on a mortgage are a form of pre-paid interest that can be purchased to reduce the interest rate on the loan, resulting in a lower monthly payment for the borrower. It is equal to one percent of the loan amount and can be used to buy down the upfront payment.</td>\n",
              "      <td>None</td>\n",
              "      <td>Ragas Answer Relevancy</td>\n",
              "      <td>None</td>\n",
              "      <td>A response is deemed relevant when it directly and appropriately addresses the original query. Importantly, our assessment of answer relevance does not consider factuality but instead penalizes cases where the response lacks completeness or contains redundant details</td>\n",
              "      <td>1859</td>\n",
              "      <td>gpt-3.5-turbo</td>\n",
              "    </tr>\n",
              "  </tbody>\n",
              "</table>\n",
              "</div>"
            ],
            "text/plain": [
              "                           query  \\\n",
              "0  what are points on a mortgage   \n",
              "\n",
              "                                                                                                                                                                                                                                                                                                                                                                                                                                                                                                               context  \\\n",
              "0  [Discount points, also called mortgage points or simply points, are a form of pre-paid interest available in the United States when arranging a mortgage. One point equals one percent of the loan amount. By charging a borrower points, a lender effectively increases the yield on the loan above the amount of the stated interest rate. Borrowers can offer to pay a lender points as a method to reduce the interest rate on the loan, thus obtaining a lower monthly payment in exchange for this, points...   \n",
              "\n",
              "                                                                                                                                                                                                                                                                    response  \\\n",
              "0  Points on a mortgage are a form of pre-paid interest that can be purchased to reduce the interest rate on the loan, resulting in a lower monthly payment for the borrower. It is equal to one percent of the loan amount and can be used to buy down the upfront payment.   \n",
              "\n",
              "  expected_response            display_name failed  \\\n",
              "0              None  Ragas Answer Relevancy   None   \n",
              "\n",
              "                                                                                                                                                                                                                                                                  grade_reason  \\\n",
              "0  A response is deemed relevant when it directly and appropriately addresses the original query. Importantly, our assessment of answer relevance does not consider factuality but instead penalizes cases where the response lacks completeness or contains redundant details   \n",
              "\n",
              "   runtime          model  \n",
              "0     1859  gpt-3.5-turbo  "
            ]
          },
          "execution_count": 58,
          "metadata": {},
          "output_type": "execute_result"
        }
      ],
      "source": [
        "from athina.evals import RagasAnswerRelevancy\n",
        "\n",
        "eval_model = \"gpt-3.5-turbo\"\n",
        "RagasAnswerRelevancy(model=eval_model).run_batch(data=dataset).to_df()"
      ]
    },
    {
      "cell_type": "code",
      "execution_count": null,
      "metadata": {},
      "outputs": [],
      "source": []
    }
  ],
  "metadata": {
    "colab": {
      "provenance": []
    },
    "kernelspec": {
      "display_name": "Python 3",
      "name": "python3"
    },
    "language_info": {
      "codemirror_mode": {
        "name": "ipython",
        "version": 3
      },
      "file_extension": ".py",
      "mimetype": "text/x-python",
      "name": "python",
      "nbconvert_exporter": "python",
      "pygments_lexer": "ipython3",
      "version": "3.10.11"
    }
  },
  "nbformat": 4,
  "nbformat_minor": 0
}
